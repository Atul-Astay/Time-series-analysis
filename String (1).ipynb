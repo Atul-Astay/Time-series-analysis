{
 "cells": [
  {
   "cell_type": "code",
   "execution_count": 3,
   "id": "30d1a3c5",
   "metadata": {},
   "outputs": [],
   "source": [
    "x = \"Hello world\""
   ]
  },
  {
   "cell_type": "code",
   "execution_count": 2,
   "id": "c76bd2a1",
   "metadata": {},
   "outputs": [
    {
     "data": {
      "text/plain": [
       "str"
      ]
     },
     "execution_count": 2,
     "metadata": {},
     "output_type": "execute_result"
    }
   ],
   "source": [
    "type(\"Hello world\")"
   ]
  },
  {
   "cell_type": "code",
   "execution_count": 4,
   "id": "33278e15",
   "metadata": {},
   "outputs": [
    {
     "data": {
      "text/plain": [
       "11"
      ]
     },
     "execution_count": 4,
     "metadata": {},
     "output_type": "execute_result"
    }
   ],
   "source": [
    "len(x)"
   ]
  },
  {
   "cell_type": "code",
   "execution_count": 8,
   "id": "7e941b7f",
   "metadata": {},
   "outputs": [
    {
     "name": "stdout",
     "output_type": "stream",
     "text": [
      "5464\n"
     ]
    }
   ],
   "source": [
    "y = '5464'\n",
    "print(y)"
   ]
  },
  {
   "cell_type": "code",
   "execution_count": 9,
   "id": "4e1d9583",
   "metadata": {},
   "outputs": [
    {
     "data": {
      "text/plain": [
       "str"
      ]
     },
     "execution_count": 9,
     "metadata": {},
     "output_type": "execute_result"
    }
   ],
   "source": [
    "type(y)"
   ]
  },
  {
   "cell_type": "code",
   "execution_count": 10,
   "id": "b2ef3b86",
   "metadata": {},
   "outputs": [
    {
     "data": {
      "text/plain": [
       "4"
      ]
     },
     "execution_count": 10,
     "metadata": {},
     "output_type": "execute_result"
    }
   ],
   "source": [
    "len(y)"
   ]
  },
  {
   "cell_type": "code",
   "execution_count": 11,
   "id": "a1301981",
   "metadata": {},
   "outputs": [
    {
     "name": "stdout",
     "output_type": "stream",
     "text": [
      "[1, 2, 3, 4, 5, 7]\n"
     ]
    }
   ],
   "source": [
    "z = [1,2,3,4,5,7]\n",
    "print(z)"
   ]
  },
  {
   "cell_type": "code",
   "execution_count": 12,
   "id": "9fef9507",
   "metadata": {},
   "outputs": [
    {
     "data": {
      "text/plain": [
       "list"
      ]
     },
     "execution_count": 12,
     "metadata": {},
     "output_type": "execute_result"
    }
   ],
   "source": [
    "type(z)"
   ]
  },
  {
   "cell_type": "code",
   "execution_count": 13,
   "id": "c1ff2ed4",
   "metadata": {},
   "outputs": [
    {
     "data": {
      "text/plain": [
       "6"
      ]
     },
     "execution_count": 13,
     "metadata": {},
     "output_type": "execute_result"
    }
   ],
   "source": [
    "len(z)"
   ]
  },
  {
   "cell_type": "code",
   "execution_count": 15,
   "id": "a5353298",
   "metadata": {},
   "outputs": [
    {
     "name": "stdout",
     "output_type": "stream",
     "text": [
      "6\n"
     ]
    }
   ],
   "source": [
    "print(len(z))"
   ]
  },
  {
   "cell_type": "code",
   "execution_count": 22,
   "id": "9b483550",
   "metadata": {},
   "outputs": [
    {
     "name": "stdout",
     "output_type": "stream",
     "text": [
      "Python \n"
     ]
    }
   ],
   "source": [
    "a = \"Python \"\n",
    "print(a)"
   ]
  },
  {
   "cell_type": "code",
   "execution_count": 23,
   "id": "8ad28fce",
   "metadata": {},
   "outputs": [
    {
     "data": {
      "text/plain": [
       "'P'"
      ]
     },
     "execution_count": 23,
     "metadata": {},
     "output_type": "execute_result"
    }
   ],
   "source": [
    "a[0]"
   ]
  },
  {
   "cell_type": "code",
   "execution_count": 24,
   "id": "06ed54da",
   "metadata": {},
   "outputs": [
    {
     "data": {
      "text/plain": [
       "'y'"
      ]
     },
     "execution_count": 24,
     "metadata": {},
     "output_type": "execute_result"
    }
   ],
   "source": [
    "a[1]"
   ]
  },
  {
   "cell_type": "code",
   "execution_count": 25,
   "id": "fe91d3c6",
   "metadata": {},
   "outputs": [
    {
     "data": {
      "text/plain": [
       "'o'"
      ]
     },
     "execution_count": 25,
     "metadata": {},
     "output_type": "execute_result"
    }
   ],
   "source": [
    "a[4]"
   ]
  },
  {
   "cell_type": "code",
   "execution_count": 26,
   "id": "97c74d6e",
   "metadata": {},
   "outputs": [
    {
     "data": {
      "text/plain": [
       "'n'"
      ]
     },
     "execution_count": 26,
     "metadata": {},
     "output_type": "execute_result"
    }
   ],
   "source": [
    "a[5]"
   ]
  },
  {
   "cell_type": "code",
   "execution_count": 27,
   "id": "dc4bca5f",
   "metadata": {},
   "outputs": [
    {
     "data": {
      "text/plain": [
       "' '"
      ]
     },
     "execution_count": 27,
     "metadata": {},
     "output_type": "execute_result"
    }
   ],
   "source": [
    "a[6]"
   ]
  },
  {
   "cell_type": "code",
   "execution_count": 28,
   "id": "42622ec8",
   "metadata": {},
   "outputs": [
    {
     "data": {
      "text/plain": [
       "' '"
      ]
     },
     "execution_count": 28,
     "metadata": {},
     "output_type": "execute_result"
    }
   ],
   "source": [
    "a[-1]"
   ]
  },
  {
   "cell_type": "code",
   "execution_count": 29,
   "id": "74e6c8e8",
   "metadata": {},
   "outputs": [
    {
     "data": {
      "text/plain": [
       "'y'"
      ]
     },
     "execution_count": 29,
     "metadata": {},
     "output_type": "execute_result"
    }
   ],
   "source": [
    "a[-6]"
   ]
  },
  {
   "cell_type": "code",
   "execution_count": 30,
   "id": "9a386095",
   "metadata": {},
   "outputs": [
    {
     "data": {
      "text/plain": [
       "'P'"
      ]
     },
     "execution_count": 30,
     "metadata": {},
     "output_type": "execute_result"
    }
   ],
   "source": [
    "a[-7]"
   ]
  },
  {
   "cell_type": "code",
   "execution_count": 31,
   "id": "dbf8e6dd",
   "metadata": {},
   "outputs": [
    {
     "ename": "IndexError",
     "evalue": "string index out of range",
     "output_type": "error",
     "traceback": [
      "\u001b[1;31m---------------------------------------------------------------------------\u001b[0m",
      "\u001b[1;31mIndexError\u001b[0m                                Traceback (most recent call last)",
      "Input \u001b[1;32mIn [31]\u001b[0m, in \u001b[0;36m<cell line: 1>\u001b[1;34m()\u001b[0m\n\u001b[1;32m----> 1\u001b[0m \u001b[43ma\u001b[49m\u001b[43m[\u001b[49m\u001b[38;5;241;43m-\u001b[39;49m\u001b[38;5;241;43m8\u001b[39;49m\u001b[43m]\u001b[49m\n",
      "\u001b[1;31mIndexError\u001b[0m: string index out of range"
     ]
    }
   ],
   "source": [
    "a[-8]"
   ]
  },
  {
   "cell_type": "code",
   "execution_count": 32,
   "id": "1a314dd8",
   "metadata": {},
   "outputs": [
    {
     "data": {
      "text/plain": [
       "'Python '"
      ]
     },
     "execution_count": 32,
     "metadata": {},
     "output_type": "execute_result"
    }
   ],
   "source": [
    "a"
   ]
  },
  {
   "cell_type": "code",
   "execution_count": 33,
   "id": "b44e33d5",
   "metadata": {},
   "outputs": [
    {
     "data": {
      "text/plain": [
       "'yth'"
      ]
     },
     "execution_count": 33,
     "metadata": {},
     "output_type": "execute_result"
    }
   ],
   "source": [
    "a[1:4]"
   ]
  },
  {
   "cell_type": "code",
   "execution_count": 34,
   "id": "1fd5eb60",
   "metadata": {},
   "outputs": [
    {
     "data": {
      "text/plain": [
       "'ytho'"
      ]
     },
     "execution_count": 34,
     "metadata": {},
     "output_type": "execute_result"
    }
   ],
   "source": [
    "a[1:5]"
   ]
  },
  {
   "cell_type": "code",
   "execution_count": 35,
   "id": "1ab894d5",
   "metadata": {},
   "outputs": [
    {
     "data": {
      "text/plain": [
       "'ython'"
      ]
     },
     "execution_count": 35,
     "metadata": {},
     "output_type": "execute_result"
    }
   ],
   "source": [
    "a[1:6]"
   ]
  },
  {
   "cell_type": "code",
   "execution_count": 38,
   "id": "d0192fc7",
   "metadata": {},
   "outputs": [
    {
     "data": {
      "text/plain": [
       "'ython '"
      ]
     },
     "execution_count": 38,
     "metadata": {},
     "output_type": "execute_result"
    }
   ],
   "source": [
    "a[1:23]"
   ]
  },
  {
   "cell_type": "code",
   "execution_count": 39,
   "id": "a63af4a0",
   "metadata": {},
   "outputs": [
    {
     "data": {
      "text/plain": [
       "'Python '"
      ]
     },
     "execution_count": 39,
     "metadata": {},
     "output_type": "execute_result"
    }
   ],
   "source": [
    "a[0:]"
   ]
  },
  {
   "cell_type": "code",
   "execution_count": 40,
   "id": "f05f79c8",
   "metadata": {},
   "outputs": [
    {
     "data": {
      "text/plain": [
       "'Python'"
      ]
     },
     "execution_count": 40,
     "metadata": {},
     "output_type": "execute_result"
    }
   ],
   "source": [
    "a[:-1]"
   ]
  },
  {
   "cell_type": "code",
   "execution_count": 41,
   "id": "3330d9ce",
   "metadata": {},
   "outputs": [
    {
     "data": {
      "text/plain": [
       "'ython '"
      ]
     },
     "execution_count": 41,
     "metadata": {},
     "output_type": "execute_result"
    }
   ],
   "source": [
    "a[1:]"
   ]
  },
  {
   "cell_type": "code",
   "execution_count": 42,
   "id": "85e352e6",
   "metadata": {},
   "outputs": [
    {
     "data": {
      "text/plain": [
       "'Pytho'"
      ]
     },
     "execution_count": 42,
     "metadata": {},
     "output_type": "execute_result"
    }
   ],
   "source": [
    "a[:-2]"
   ]
  },
  {
   "cell_type": "code",
   "execution_count": 45,
   "id": "a6c900ac",
   "metadata": {},
   "outputs": [
    {
     "data": {
      "text/plain": [
       "'Pytho'"
      ]
     },
     "execution_count": 45,
     "metadata": {},
     "output_type": "execute_result"
    }
   ],
   "source": [
    "a[:-2]"
   ]
  },
  {
   "cell_type": "code",
   "execution_count": 50,
   "id": "df2eec7a",
   "metadata": {},
   "outputs": [
    {
     "name": "stdout",
     "output_type": "stream",
     "text": [
      "Lakhan Jadam\n"
     ]
    }
   ],
   "source": [
    "a = \"Lakhan\"\n",
    "b = \"Jadam\"\n",
    "print(a,b,sep =\" \")"
   ]
  },
  {
   "cell_type": "code",
   "execution_count": 51,
   "id": "cb894542",
   "metadata": {},
   "outputs": [
    {
     "name": "stdout",
     "output_type": "stream",
     "text": [
      "Lakhan Jadam\n"
     ]
    }
   ],
   "source": [
    "a = \"Lakhan\"\n",
    "b = \"Jadam\"\n",
    "print(a + \" \"+ b)"
   ]
  },
  {
   "cell_type": "code",
   "execution_count": 52,
   "id": "ebbb946f",
   "metadata": {},
   "outputs": [
    {
     "name": "stdout",
     "output_type": "stream",
     "text": [
      "LakhanJadam\n"
     ]
    }
   ],
   "source": [
    "c = a+b\n",
    "print(c)"
   ]
  },
  {
   "cell_type": "code",
   "execution_count": 61,
   "id": "08338eea",
   "metadata": {},
   "outputs": [
    {
     "data": {
      "text/plain": [
       "11"
      ]
     },
     "execution_count": 61,
     "metadata": {},
     "output_type": "execute_result"
    }
   ],
   "source": [
    "len(c)"
   ]
  },
  {
   "cell_type": "code",
   "execution_count": 62,
   "id": "d96a9746",
   "metadata": {},
   "outputs": [
    {
     "data": {
      "text/plain": [
       "'Jad'"
      ]
     },
     "execution_count": 62,
     "metadata": {},
     "output_type": "execute_result"
    }
   ],
   "source": [
    "c[-5:-2]"
   ]
  },
  {
   "cell_type": "code",
   "execution_count": 63,
   "id": "1df7da5b",
   "metadata": {},
   "outputs": [
    {
     "data": {
      "text/plain": [
       "''"
      ]
     },
     "execution_count": 63,
     "metadata": {},
     "output_type": "execute_result"
    }
   ],
   "source": [
    "c[-2:-5]"
   ]
  },
  {
   "cell_type": "code",
   "execution_count": 59,
   "id": "8f6812c1",
   "metadata": {},
   "outputs": [
    {
     "name": "stdout",
     "output_type": "stream",
     "text": [
      "d\n"
     ]
    }
   ],
   "source": [
    "c[-3]\n",
    "print(c[8])"
   ]
  },
  {
   "cell_type": "code",
   "execution_count": 55,
   "id": "5f673ea0",
   "metadata": {},
   "outputs": [
    {
     "data": {
      "text/plain": [
       "'a'"
      ]
     },
     "execution_count": 55,
     "metadata": {},
     "output_type": "execute_result"
    }
   ],
   "source": [
    "c[9]"
   ]
  },
  {
   "cell_type": "code",
   "execution_count": 56,
   "id": "d7e8a4a9",
   "metadata": {
    "scrolled": false
   },
   "outputs": [
    {
     "name": "stdout",
     "output_type": "stream",
     "text": [
      "Help on class str in module builtins:\n",
      "\n",
      "class str(object)\n",
      " |  str(object='') -> str\n",
      " |  str(bytes_or_buffer[, encoding[, errors]]) -> str\n",
      " |  \n",
      " |  Create a new string object from the given object. If encoding or\n",
      " |  errors is specified, then the object must expose a data buffer\n",
      " |  that will be decoded using the given encoding and error handler.\n",
      " |  Otherwise, returns the result of object.__str__() (if defined)\n",
      " |  or repr(object).\n",
      " |  encoding defaults to sys.getdefaultencoding().\n",
      " |  errors defaults to 'strict'.\n",
      " |  \n",
      " |  Methods defined here:\n",
      " |  \n",
      " |  __add__(self, value, /)\n",
      " |      Return self+value.\n",
      " |  \n",
      " |  __contains__(self, key, /)\n",
      " |      Return key in self.\n",
      " |  \n",
      " |  __eq__(self, value, /)\n",
      " |      Return self==value.\n",
      " |  \n",
      " |  __format__(self, format_spec, /)\n",
      " |      Return a formatted version of the string as described by format_spec.\n",
      " |  \n",
      " |  __ge__(self, value, /)\n",
      " |      Return self>=value.\n",
      " |  \n",
      " |  __getattribute__(self, name, /)\n",
      " |      Return getattr(self, name).\n",
      " |  \n",
      " |  __getitem__(self, key, /)\n",
      " |      Return self[key].\n",
      " |  \n",
      " |  __getnewargs__(...)\n",
      " |  \n",
      " |  __gt__(self, value, /)\n",
      " |      Return self>value.\n",
      " |  \n",
      " |  __hash__(self, /)\n",
      " |      Return hash(self).\n",
      " |  \n",
      " |  __iter__(self, /)\n",
      " |      Implement iter(self).\n",
      " |  \n",
      " |  __le__(self, value, /)\n",
      " |      Return self<=value.\n",
      " |  \n",
      " |  __len__(self, /)\n",
      " |      Return len(self).\n",
      " |  \n",
      " |  __lt__(self, value, /)\n",
      " |      Return self<value.\n",
      " |  \n",
      " |  __mod__(self, value, /)\n",
      " |      Return self%value.\n",
      " |  \n",
      " |  __mul__(self, value, /)\n",
      " |      Return self*value.\n",
      " |  \n",
      " |  __ne__(self, value, /)\n",
      " |      Return self!=value.\n",
      " |  \n",
      " |  __repr__(self, /)\n",
      " |      Return repr(self).\n",
      " |  \n",
      " |  __rmod__(self, value, /)\n",
      " |      Return value%self.\n",
      " |  \n",
      " |  __rmul__(self, value, /)\n",
      " |      Return value*self.\n",
      " |  \n",
      " |  __sizeof__(self, /)\n",
      " |      Return the size of the string in memory, in bytes.\n",
      " |  \n",
      " |  __str__(self, /)\n",
      " |      Return str(self).\n",
      " |  \n",
      " |  capitalize(self, /)\n",
      " |      Return a capitalized version of the string.\n",
      " |      \n",
      " |      More specifically, make the first character have upper case and the rest lower\n",
      " |      case.\n",
      " |  \n",
      " |  casefold(self, /)\n",
      " |      Return a version of the string suitable for caseless comparisons.\n",
      " |  \n",
      " |  center(self, width, fillchar=' ', /)\n",
      " |      Return a centered string of length width.\n",
      " |      \n",
      " |      Padding is done using the specified fill character (default is a space).\n",
      " |  \n",
      " |  count(...)\n",
      " |      S.count(sub[, start[, end]]) -> int\n",
      " |      \n",
      " |      Return the number of non-overlapping occurrences of substring sub in\n",
      " |      string S[start:end].  Optional arguments start and end are\n",
      " |      interpreted as in slice notation.\n",
      " |  \n",
      " |  encode(self, /, encoding='utf-8', errors='strict')\n",
      " |      Encode the string using the codec registered for encoding.\n",
      " |      \n",
      " |      encoding\n",
      " |        The encoding in which to encode the string.\n",
      " |      errors\n",
      " |        The error handling scheme to use for encoding errors.\n",
      " |        The default is 'strict' meaning that encoding errors raise a\n",
      " |        UnicodeEncodeError.  Other possible values are 'ignore', 'replace' and\n",
      " |        'xmlcharrefreplace' as well as any other name registered with\n",
      " |        codecs.register_error that can handle UnicodeEncodeErrors.\n",
      " |  \n",
      " |  endswith(...)\n",
      " |      S.endswith(suffix[, start[, end]]) -> bool\n",
      " |      \n",
      " |      Return True if S ends with the specified suffix, False otherwise.\n",
      " |      With optional start, test S beginning at that position.\n",
      " |      With optional end, stop comparing S at that position.\n",
      " |      suffix can also be a tuple of strings to try.\n",
      " |  \n",
      " |  expandtabs(self, /, tabsize=8)\n",
      " |      Return a copy where all tab characters are expanded using spaces.\n",
      " |      \n",
      " |      If tabsize is not given, a tab size of 8 characters is assumed.\n",
      " |  \n",
      " |  find(...)\n",
      " |      S.find(sub[, start[, end]]) -> int\n",
      " |      \n",
      " |      Return the lowest index in S where substring sub is found,\n",
      " |      such that sub is contained within S[start:end].  Optional\n",
      " |      arguments start and end are interpreted as in slice notation.\n",
      " |      \n",
      " |      Return -1 on failure.\n",
      " |  \n",
      " |  format(...)\n",
      " |      S.format(*args, **kwargs) -> str\n",
      " |      \n",
      " |      Return a formatted version of S, using substitutions from args and kwargs.\n",
      " |      The substitutions are identified by braces ('{' and '}').\n",
      " |  \n",
      " |  format_map(...)\n",
      " |      S.format_map(mapping) -> str\n",
      " |      \n",
      " |      Return a formatted version of S, using substitutions from mapping.\n",
      " |      The substitutions are identified by braces ('{' and '}').\n",
      " |  \n",
      " |  index(...)\n",
      " |      S.index(sub[, start[, end]]) -> int\n",
      " |      \n",
      " |      Return the lowest index in S where substring sub is found,\n",
      " |      such that sub is contained within S[start:end].  Optional\n",
      " |      arguments start and end are interpreted as in slice notation.\n",
      " |      \n",
      " |      Raises ValueError when the substring is not found.\n",
      " |  \n",
      " |  isalnum(self, /)\n",
      " |      Return True if the string is an alpha-numeric string, False otherwise.\n",
      " |      \n",
      " |      A string is alpha-numeric if all characters in the string are alpha-numeric and\n",
      " |      there is at least one character in the string.\n",
      " |  \n",
      " |  isalpha(self, /)\n",
      " |      Return True if the string is an alphabetic string, False otherwise.\n",
      " |      \n",
      " |      A string is alphabetic if all characters in the string are alphabetic and there\n",
      " |      is at least one character in the string.\n",
      " |  \n",
      " |  isascii(self, /)\n",
      " |      Return True if all characters in the string are ASCII, False otherwise.\n",
      " |      \n",
      " |      ASCII characters have code points in the range U+0000-U+007F.\n",
      " |      Empty string is ASCII too.\n",
      " |  \n",
      " |  isdecimal(self, /)\n",
      " |      Return True if the string is a decimal string, False otherwise.\n",
      " |      \n",
      " |      A string is a decimal string if all characters in the string are decimal and\n",
      " |      there is at least one character in the string.\n",
      " |  \n",
      " |  isdigit(self, /)\n",
      " |      Return True if the string is a digit string, False otherwise.\n",
      " |      \n",
      " |      A string is a digit string if all characters in the string are digits and there\n",
      " |      is at least one character in the string.\n",
      " |  \n",
      " |  isidentifier(self, /)\n",
      " |      Return True if the string is a valid Python identifier, False otherwise.\n",
      " |      \n",
      " |      Call keyword.iskeyword(s) to test whether string s is a reserved identifier,\n",
      " |      such as \"def\" or \"class\".\n",
      " |  \n",
      " |  islower(self, /)\n",
      " |      Return True if the string is a lowercase string, False otherwise.\n",
      " |      \n",
      " |      A string is lowercase if all cased characters in the string are lowercase and\n",
      " |      there is at least one cased character in the string.\n",
      " |  \n",
      " |  isnumeric(self, /)\n",
      " |      Return True if the string is a numeric string, False otherwise.\n",
      " |      \n",
      " |      A string is numeric if all characters in the string are numeric and there is at\n",
      " |      least one character in the string.\n",
      " |  \n",
      " |  isprintable(self, /)\n",
      " |      Return True if the string is printable, False otherwise.\n",
      " |      \n",
      " |      A string is printable if all of its characters are considered printable in\n",
      " |      repr() or if it is empty.\n",
      " |  \n",
      " |  isspace(self, /)\n",
      " |      Return True if the string is a whitespace string, False otherwise.\n",
      " |      \n",
      " |      A string is whitespace if all characters in the string are whitespace and there\n",
      " |      is at least one character in the string.\n",
      " |  \n",
      " |  istitle(self, /)\n",
      " |      Return True if the string is a title-cased string, False otherwise.\n",
      " |      \n",
      " |      In a title-cased string, upper- and title-case characters may only\n",
      " |      follow uncased characters and lowercase characters only cased ones.\n",
      " |  \n",
      " |  isupper(self, /)\n",
      " |      Return True if the string is an uppercase string, False otherwise.\n",
      " |      \n",
      " |      A string is uppercase if all cased characters in the string are uppercase and\n",
      " |      there is at least one cased character in the string.\n",
      " |  \n",
      " |  join(self, iterable, /)\n",
      " |      Concatenate any number of strings.\n",
      " |      \n",
      " |      The string whose method is called is inserted in between each given string.\n",
      " |      The result is returned as a new string.\n",
      " |      \n",
      " |      Example: '.'.join(['ab', 'pq', 'rs']) -> 'ab.pq.rs'\n",
      " |  \n",
      " |  ljust(self, width, fillchar=' ', /)\n",
      " |      Return a left-justified string of length width.\n",
      " |      \n",
      " |      Padding is done using the specified fill character (default is a space).\n",
      " |  \n",
      " |  lower(self, /)\n",
      " |      Return a copy of the string converted to lowercase.\n",
      " |  \n",
      " |  lstrip(self, chars=None, /)\n",
      " |      Return a copy of the string with leading whitespace removed.\n",
      " |      \n",
      " |      If chars is given and not None, remove characters in chars instead.\n",
      " |  \n",
      " |  partition(self, sep, /)\n",
      " |      Partition the string into three parts using the given separator.\n",
      " |      \n",
      " |      This will search for the separator in the string.  If the separator is found,\n",
      " |      returns a 3-tuple containing the part before the separator, the separator\n",
      " |      itself, and the part after it.\n",
      " |      \n",
      " |      If the separator is not found, returns a 3-tuple containing the original string\n",
      " |      and two empty strings.\n",
      " |  \n",
      " |  removeprefix(self, prefix, /)\n",
      " |      Return a str with the given prefix string removed if present.\n",
      " |      \n",
      " |      If the string starts with the prefix string, return string[len(prefix):].\n",
      " |      Otherwise, return a copy of the original string.\n",
      " |  \n",
      " |  removesuffix(self, suffix, /)\n",
      " |      Return a str with the given suffix string removed if present.\n",
      " |      \n",
      " |      If the string ends with the suffix string and that suffix is not empty,\n",
      " |      return string[:-len(suffix)]. Otherwise, return a copy of the original\n",
      " |      string.\n",
      " |  \n",
      " |  replace(self, old, new, count=-1, /)\n",
      " |      Return a copy with all occurrences of substring old replaced by new.\n",
      " |      \n",
      " |        count\n",
      " |          Maximum number of occurrences to replace.\n",
      " |          -1 (the default value) means replace all occurrences.\n",
      " |      \n",
      " |      If the optional argument count is given, only the first count occurrences are\n",
      " |      replaced.\n",
      " |  \n",
      " |  rfind(...)\n",
      " |      S.rfind(sub[, start[, end]]) -> int\n",
      " |      \n",
      " |      Return the highest index in S where substring sub is found,\n",
      " |      such that sub is contained within S[start:end].  Optional\n",
      " |      arguments start and end are interpreted as in slice notation.\n",
      " |      \n",
      " |      Return -1 on failure.\n",
      " |  \n",
      " |  rindex(...)\n",
      " |      S.rindex(sub[, start[, end]]) -> int\n",
      " |      \n",
      " |      Return the highest index in S where substring sub is found,\n",
      " |      such that sub is contained within S[start:end].  Optional\n",
      " |      arguments start and end are interpreted as in slice notation.\n",
      " |      \n",
      " |      Raises ValueError when the substring is not found.\n",
      " |  \n",
      " |  rjust(self, width, fillchar=' ', /)\n",
      " |      Return a right-justified string of length width.\n",
      " |      \n",
      " |      Padding is done using the specified fill character (default is a space).\n",
      " |  \n",
      " |  rpartition(self, sep, /)\n",
      " |      Partition the string into three parts using the given separator.\n",
      " |      \n",
      " |      This will search for the separator in the string, starting at the end. If\n",
      " |      the separator is found, returns a 3-tuple containing the part before the\n",
      " |      separator, the separator itself, and the part after it.\n",
      " |      \n",
      " |      If the separator is not found, returns a 3-tuple containing two empty strings\n",
      " |      and the original string.\n",
      " |  \n",
      " |  rsplit(self, /, sep=None, maxsplit=-1)\n",
      " |      Return a list of the words in the string, using sep as the delimiter string.\n",
      " |      \n",
      " |        sep\n",
      " |          The delimiter according which to split the string.\n",
      " |          None (the default value) means split according to any whitespace,\n",
      " |          and discard empty strings from the result.\n",
      " |        maxsplit\n",
      " |          Maximum number of splits to do.\n",
      " |          -1 (the default value) means no limit.\n",
      " |      \n",
      " |      Splits are done starting at the end of the string and working to the front.\n",
      " |  \n",
      " |  rstrip(self, chars=None, /)\n",
      " |      Return a copy of the string with trailing whitespace removed.\n",
      " |      \n",
      " |      If chars is given and not None, remove characters in chars instead.\n",
      " |  \n",
      " |  split(self, /, sep=None, maxsplit=-1)\n",
      " |      Return a list of the words in the string, using sep as the delimiter string.\n",
      " |      \n",
      " |      sep\n",
      " |        The delimiter according which to split the string.\n",
      " |        None (the default value) means split according to any whitespace,\n",
      " |        and discard empty strings from the result.\n",
      " |      maxsplit\n",
      " |        Maximum number of splits to do.\n",
      " |        -1 (the default value) means no limit.\n",
      " |  \n",
      " |  splitlines(self, /, keepends=False)\n",
      " |      Return a list of the lines in the string, breaking at line boundaries.\n",
      " |      \n",
      " |      Line breaks are not included in the resulting list unless keepends is given and\n",
      " |      true.\n",
      " |  \n",
      " |  startswith(...)\n",
      " |      S.startswith(prefix[, start[, end]]) -> bool\n",
      " |      \n",
      " |      Return True if S starts with the specified prefix, False otherwise.\n",
      " |      With optional start, test S beginning at that position.\n",
      " |      With optional end, stop comparing S at that position.\n",
      " |      prefix can also be a tuple of strings to try.\n",
      " |  \n",
      " |  strip(self, chars=None, /)\n",
      " |      Return a copy of the string with leading and trailing whitespace removed.\n",
      " |      \n",
      " |      If chars is given and not None, remove characters in chars instead.\n",
      " |  \n",
      " |  swapcase(self, /)\n",
      " |      Convert uppercase characters to lowercase and lowercase characters to uppercase.\n",
      " |  \n",
      " |  title(self, /)\n",
      " |      Return a version of the string where each word is titlecased.\n",
      " |      \n",
      " |      More specifically, words start with uppercased characters and all remaining\n",
      " |      cased characters have lower case.\n",
      " |  \n",
      " |  translate(self, table, /)\n",
      " |      Replace each character in the string using the given translation table.\n",
      " |      \n",
      " |        table\n",
      " |          Translation table, which must be a mapping of Unicode ordinals to\n",
      " |          Unicode ordinals, strings, or None.\n",
      " |      \n",
      " |      The table must implement lookup/indexing via __getitem__, for instance a\n",
      " |      dictionary or list.  If this operation raises LookupError, the character is\n",
      " |      left untouched.  Characters mapped to None are deleted.\n",
      " |  \n",
      " |  upper(self, /)\n",
      " |      Return a copy of the string converted to uppercase.\n",
      " |  \n",
      " |  zfill(self, width, /)\n",
      " |      Pad a numeric string with zeros on the left, to fill a field of the given width.\n",
      " |      \n",
      " |      The string is never truncated.\n",
      " |  \n",
      " |  ----------------------------------------------------------------------\n",
      " |  Static methods defined here:\n",
      " |  \n",
      " |  __new__(*args, **kwargs) from builtins.type\n",
      " |      Create and return a new object.  See help(type) for accurate signature.\n",
      " |  \n",
      " |  maketrans(...)\n",
      " |      Return a translation table usable for str.translate().\n",
      " |      \n",
      " |      If there is only one argument, it must be a dictionary mapping Unicode\n",
      " |      ordinals (integers) or characters to Unicode ordinals, strings or None.\n",
      " |      Character keys will be then converted to ordinals.\n",
      " |      If there are two arguments, they must be strings of equal length, and\n",
      " |      in the resulting dictionary, each character in x will be mapped to the\n",
      " |      character at the same position in y. If there is a third argument, it\n",
      " |      must be a string, whose characters will be mapped to None in the result.\n",
      "\n"
     ]
    }
   ],
   "source": [
    "help(str)"
   ]
  },
  {
   "cell_type": "code",
   "execution_count": 58,
   "id": "855af6b5",
   "metadata": {},
   "outputs": [
    {
     "data": {
      "text/plain": [
       "8"
      ]
     },
     "execution_count": 58,
     "metadata": {},
     "output_type": "execute_result"
    }
   ],
   "source": [
    "c.find('d')"
   ]
  },
  {
   "cell_type": "code",
   "execution_count": null,
   "id": "d0bd18c9",
   "metadata": {
    "scrolled": false
   },
   "outputs": [],
   "source": []
  },
  {
   "cell_type": "code",
   "execution_count": 64,
   "id": "6f4d488d",
   "metadata": {},
   "outputs": [
    {
     "name": "stdout",
     "output_type": "stream",
     "text": [
      "Sachin varshney\n"
     ]
    }
   ],
   "source": [
    "#capitalize(self, /)\n",
    "#    Return a capitalized version of the string\n",
    "x = \"Sachin Varshney\"\n",
    "print(x.capitalize())"
   ]
  },
  {
   "cell_type": "code",
   "execution_count": 67,
   "id": "ded6b0ff",
   "metadata": {},
   "outputs": [],
   "source": [
    "y = \"lakHAn\""
   ]
  },
  {
   "cell_type": "code",
   "execution_count": 68,
   "id": "b7e393a8",
   "metadata": {},
   "outputs": [
    {
     "name": "stdout",
     "output_type": "stream",
     "text": [
      "Lakhan\n"
     ]
    }
   ],
   "source": [
    "print(y.capitalize())"
   ]
  },
  {
   "cell_type": "code",
   "execution_count": 69,
   "id": "fdf47229",
   "metadata": {},
   "outputs": [
    {
     "name": "stdout",
     "output_type": "stream",
     "text": [
      "lakhan\n"
     ]
    }
   ],
   "source": [
    "#casefold(self, /)\n",
    "#      Return a version of the string suitable for caseless comparisons.\n",
    "y = \"lakHAn\"\n",
    "print(y.casefold())"
   ]
  },
  {
   "cell_type": "code",
   "execution_count": 70,
   "id": "a7e45984",
   "metadata": {},
   "outputs": [
    {
     "name": "stdout",
     "output_type": "stream",
     "text": [
      "sachin\n"
     ]
    }
   ],
   "source": [
    "a = \"Sachin\"\n",
    "print(a.casefold())"
   ]
  },
  {
   "cell_type": "code",
   "execution_count": 72,
   "id": "74cf180c",
   "metadata": {},
   "outputs": [
    {
     "name": "stdout",
     "output_type": "stream",
     "text": [
      "Lakhan Jadam\n"
     ]
    }
   ],
   "source": [
    "# Title\n",
    "\n",
    "y = \"lakHAn jadam\"\n",
    "print(y.title())"
   ]
  },
  {
   "cell_type": "code",
   "execution_count": 74,
   "id": "7dd5822a",
   "metadata": {},
   "outputs": [
    {
     "name": "stdout",
     "output_type": "stream",
     "text": [
      "Hello We Are Data Scientist\n"
     ]
    }
   ],
   "source": [
    "z = \"Hello we ARE data scientist\"\n",
    "print(z.title())"
   ]
  },
  {
   "cell_type": "code",
   "execution_count": 3,
   "id": "bd4f1bbb",
   "metadata": {},
   "outputs": [
    {
     "name": "stdout",
     "output_type": "stream",
     "text": [
      "4\n",
      "3\n",
      "0\n"
     ]
    }
   ],
   "source": [
    "#\n",
    " #count(...)\n",
    " #S.count(sub[, start[, end]]) -> int\n",
    "z = \"Hello we are data scientist\"\n",
    "print(z.count('e'))\n",
    "print(z.count('a'))\n",
    "print(z.count('A'))"
   ]
  },
  {
   "cell_type": "code",
   "execution_count": 7,
   "id": "2d38cf97",
   "metadata": {},
   "outputs": [
    {
     "name": "stdout",
     "output_type": "stream",
     "text": [
      "4\n",
      "6\n",
      "1\n",
      "1\n",
      "1\n",
      "1\n",
      "2\n",
      "2\n",
      "0\n"
     ]
    }
   ],
   "source": [
    "x = 'athjghkrtuyidhjjjgdhurhgnf'\n",
    "y = 'aaaadffjjjfgrruruuttuy'\n",
    "z = x+y\n",
    "print(z.count('f'))\n",
    "print(z.count('u'))\n",
    "print(z.count('ut'))\n",
    "print(z.count('hk'))\n",
    "print(z.count('fj'))\n",
    "print(z.count('ad'))\n",
    "print(z.count('uy'))\n",
    "print(z.count('ur'))\n",
    "print(z.count('qq'))"
   ]
  },
  {
   "cell_type": "code",
   "execution_count": 17,
   "id": "5e81208d",
   "metadata": {},
   "outputs": [
    {
     "name": "stdout",
     "output_type": "stream",
     "text": [
      "3\n"
     ]
    }
   ],
   "source": [
    "num = '11133388854445055999'\n",
    "print(num.count('1'))"
   ]
  },
  {
   "cell_type": "code",
   "execution_count": 18,
   "id": "1876b2d2",
   "metadata": {},
   "outputs": [
    {
     "name": "stdout",
     "output_type": "stream",
     "text": [
      "8\n",
      "6\n",
      "15\n"
     ]
    }
   ],
   "source": [
    "#find function\n",
    "\n",
    "print(num.find('85'))\n",
    "print(num.find('8'))\n",
    "print(num.find('5',14))\n"
   ]
  },
  {
   "cell_type": "code",
   "execution_count": 21,
   "id": "ae93feb5",
   "metadata": {},
   "outputs": [
    {
     "name": "stdout",
     "output_type": "stream",
     "text": [
      "21\n",
      "15\n",
      "23\n",
      "26\n",
      "9\n"
     ]
    }
   ],
   "source": [
    "z = \"Hello we ARE data scientist\"\n",
    "print(z.find('e',8))\n",
    "print(z.find('t'))\n",
    "print(z.find('t',16))\n",
    "print(z.find('t',24))\n",
    "print(z.find('ARE'))"
   ]
  },
  {
   "cell_type": "code",
   "execution_count": 97,
   "id": "9e1cbdf8",
   "metadata": {},
   "outputs": [
    {
     "name": "stdout",
     "output_type": "stream",
     "text": [
      "Help on method_descriptor:\n",
      "\n",
      "center(self, width, fillchar=' ', /)\n",
      "    Return a centered string of length width.\n",
      "    \n",
      "    Padding is done using the specified fill character (default is a space).\n",
      "\n"
     ]
    }
   ],
   "source": [
    "help(str.center)"
   ]
  },
  {
   "cell_type": "code",
   "execution_count": 104,
   "id": "474047ad",
   "metadata": {},
   "outputs": [
    {
     "name": "stdout",
     "output_type": "stream",
     "text": [
      "6\n",
      "6\n",
      "Sachin\n",
      "Sachin\n"
     ]
    }
   ],
   "source": [
    "a = \"Sachin\"\n",
    "b = a.center(2)\n",
    "print(len(a))\n",
    "print(len(b))\n",
    "print(a)\n",
    "print(b)"
   ]
  },
  {
   "cell_type": "code",
   "execution_count": 105,
   "id": "1a257663",
   "metadata": {},
   "outputs": [
    {
     "name": "stdout",
     "output_type": "stream",
     "text": [
      "True\n"
     ]
    }
   ],
   "source": [
    "print(a.endswith('n'))"
   ]
  },
  {
   "cell_type": "code",
   "execution_count": 106,
   "id": "ff0871a0",
   "metadata": {},
   "outputs": [
    {
     "name": "stdout",
     "output_type": "stream",
     "text": [
      "True\n"
     ]
    }
   ],
   "source": [
    "print(a.startswith('S'))"
   ]
  },
  {
   "cell_type": "code",
   "execution_count": 107,
   "id": "9d464721",
   "metadata": {},
   "outputs": [
    {
     "name": "stdout",
     "output_type": "stream",
     "text": [
      "False\n"
     ]
    }
   ],
   "source": [
    "print(a.startswith('n'))"
   ]
  },
  {
   "cell_type": "code",
   "execution_count": 3,
   "id": "5f481842",
   "metadata": {},
   "outputs": [
    {
     "name": "stdout",
     "output_type": "stream",
     "text": [
      "67\n"
     ]
    }
   ],
   "source": [
    "x = 67.45\n",
    "print(int(x))"
   ]
  },
  {
   "cell_type": "code",
   "execution_count": 5,
   "id": "16da676f",
   "metadata": {},
   "outputs": [
    {
     "name": "stdout",
     "output_type": "stream",
     "text": [
      "[67, 46, 75, 23]\n"
     ]
    }
   ],
   "source": [
    "x = 67,46,75,23\n",
    "print(list(x))"
   ]
  },
  {
   "cell_type": "code",
   "execution_count": 7,
   "id": "1f03a923",
   "metadata": {},
   "outputs": [
    {
     "name": "stdout",
     "output_type": "stream",
     "text": [
      "None\n",
      "[65]\n"
     ]
    }
   ],
   "source": [
    "x = 65\n",
    "y = []\n",
    "y.append(x)\n",
    "print(y)"
   ]
  },
  {
   "cell_type": "code",
   "execution_count": 15,
   "id": "734651b7",
   "metadata": {},
   "outputs": [
    {
     "name": "stdout",
     "output_type": "stream",
     "text": [
      "Help on class str in module builtins:\n",
      "\n",
      "class str(object)\n",
      " |  str(object='') -> str\n",
      " |  str(bytes_or_buffer[, encoding[, errors]]) -> str\n",
      " |  \n",
      " |  Create a new string object from the given object. If encoding or\n",
      " |  errors is specified, then the object must expose a data buffer\n",
      " |  that will be decoded using the given encoding and error handler.\n",
      " |  Otherwise, returns the result of object.__str__() (if defined)\n",
      " |  or repr(object).\n",
      " |  encoding defaults to sys.getdefaultencoding().\n",
      " |  errors defaults to 'strict'.\n",
      " |  \n",
      " |  Methods defined here:\n",
      " |  \n",
      " |  __add__(self, value, /)\n",
      " |      Return self+value.\n",
      " |  \n",
      " |  __contains__(self, key, /)\n",
      " |      Return key in self.\n",
      " |  \n",
      " |  __eq__(self, value, /)\n",
      " |      Return self==value.\n",
      " |  \n",
      " |  __format__(self, format_spec, /)\n",
      " |      Return a formatted version of the string as described by format_spec.\n",
      " |  \n",
      " |  __ge__(self, value, /)\n",
      " |      Return self>=value.\n",
      " |  \n",
      " |  __getattribute__(self, name, /)\n",
      " |      Return getattr(self, name).\n",
      " |  \n",
      " |  __getitem__(self, key, /)\n",
      " |      Return self[key].\n",
      " |  \n",
      " |  __getnewargs__(...)\n",
      " |  \n",
      " |  __gt__(self, value, /)\n",
      " |      Return self>value.\n",
      " |  \n",
      " |  __hash__(self, /)\n",
      " |      Return hash(self).\n",
      " |  \n",
      " |  __iter__(self, /)\n",
      " |      Implement iter(self).\n",
      " |  \n",
      " |  __le__(self, value, /)\n",
      " |      Return self<=value.\n",
      " |  \n",
      " |  __len__(self, /)\n",
      " |      Return len(self).\n",
      " |  \n",
      " |  __lt__(self, value, /)\n",
      " |      Return self<value.\n",
      " |  \n",
      " |  __mod__(self, value, /)\n",
      " |      Return self%value.\n",
      " |  \n",
      " |  __mul__(self, value, /)\n",
      " |      Return self*value.\n",
      " |  \n",
      " |  __ne__(self, value, /)\n",
      " |      Return self!=value.\n",
      " |  \n",
      " |  __repr__(self, /)\n",
      " |      Return repr(self).\n",
      " |  \n",
      " |  __rmod__(self, value, /)\n",
      " |      Return value%self.\n",
      " |  \n",
      " |  __rmul__(self, value, /)\n",
      " |      Return value*self.\n",
      " |  \n",
      " |  __sizeof__(self, /)\n",
      " |      Return the size of the string in memory, in bytes.\n",
      " |  \n",
      " |  __str__(self, /)\n",
      " |      Return str(self).\n",
      " |  \n",
      " |  capitalize(self, /)\n",
      " |      Return a capitalized version of the string.\n",
      " |      \n",
      " |      More specifically, make the first character have upper case and the rest lower\n",
      " |      case.\n",
      " |  \n",
      " |  casefold(self, /)\n",
      " |      Return a version of the string suitable for caseless comparisons.\n",
      " |  \n",
      " |  center(self, width, fillchar=' ', /)\n",
      " |      Return a centered string of length width.\n",
      " |      \n",
      " |      Padding is done using the specified fill character (default is a space).\n",
      " |  \n",
      " |  count(...)\n",
      " |      S.count(sub[, start[, end]]) -> int\n",
      " |      \n",
      " |      Return the number of non-overlapping occurrences of substring sub in\n",
      " |      string S[start:end].  Optional arguments start and end are\n",
      " |      interpreted as in slice notation.\n",
      " |  \n",
      " |  encode(self, /, encoding='utf-8', errors='strict')\n",
      " |      Encode the string using the codec registered for encoding.\n",
      " |      \n",
      " |      encoding\n",
      " |        The encoding in which to encode the string.\n",
      " |      errors\n",
      " |        The error handling scheme to use for encoding errors.\n",
      " |        The default is 'strict' meaning that encoding errors raise a\n",
      " |        UnicodeEncodeError.  Other possible values are 'ignore', 'replace' and\n",
      " |        'xmlcharrefreplace' as well as any other name registered with\n",
      " |        codecs.register_error that can handle UnicodeEncodeErrors.\n",
      " |  \n",
      " |  endswith(...)\n",
      " |      S.endswith(suffix[, start[, end]]) -> bool\n",
      " |      \n",
      " |      Return True if S ends with the specified suffix, False otherwise.\n",
      " |      With optional start, test S beginning at that position.\n",
      " |      With optional end, stop comparing S at that position.\n",
      " |      suffix can also be a tuple of strings to try.\n",
      " |  \n",
      " |  expandtabs(self, /, tabsize=8)\n",
      " |      Return a copy where all tab characters are expanded using spaces.\n",
      " |      \n",
      " |      If tabsize is not given, a tab size of 8 characters is assumed.\n",
      " |  \n",
      " |  find(...)\n",
      " |      S.find(sub[, start[, end]]) -> int\n",
      " |      \n",
      " |      Return the lowest index in S where substring sub is found,\n",
      " |      such that sub is contained within S[start:end].  Optional\n",
      " |      arguments start and end are interpreted as in slice notation.\n",
      " |      \n",
      " |      Return -1 on failure.\n",
      " |  \n",
      " |  format(...)\n",
      " |      S.format(*args, **kwargs) -> str\n",
      " |      \n",
      " |      Return a formatted version of S, using substitutions from args and kwargs.\n",
      " |      The substitutions are identified by braces ('{' and '}').\n",
      " |  \n",
      " |  format_map(...)\n",
      " |      S.format_map(mapping) -> str\n",
      " |      \n",
      " |      Return a formatted version of S, using substitutions from mapping.\n",
      " |      The substitutions are identified by braces ('{' and '}').\n",
      " |  \n",
      " |  index(...)\n",
      " |      S.index(sub[, start[, end]]) -> int\n",
      " |      \n",
      " |      Return the lowest index in S where substring sub is found,\n",
      " |      such that sub is contained within S[start:end].  Optional\n",
      " |      arguments start and end are interpreted as in slice notation.\n",
      " |      \n",
      " |      Raises ValueError when the substring is not found.\n",
      " |  \n",
      " |  isalnum(self, /)\n",
      " |      Return True if the string is an alpha-numeric string, False otherwise.\n",
      " |      \n",
      " |      A string is alpha-numeric if all characters in the string are alpha-numeric and\n",
      " |      there is at least one character in the string.\n",
      " |  \n",
      " |  isalpha(self, /)\n",
      " |      Return True if the string is an alphabetic string, False otherwise.\n",
      " |      \n",
      " |      A string is alphabetic if all characters in the string are alphabetic and there\n",
      " |      is at least one character in the string.\n",
      " |  \n",
      " |  isascii(self, /)\n",
      " |      Return True if all characters in the string are ASCII, False otherwise.\n",
      " |      \n",
      " |      ASCII characters have code points in the range U+0000-U+007F.\n",
      " |      Empty string is ASCII too.\n",
      " |  \n",
      " |  isdecimal(self, /)\n",
      " |      Return True if the string is a decimal string, False otherwise.\n",
      " |      \n",
      " |      A string is a decimal string if all characters in the string are decimal and\n",
      " |      there is at least one character in the string.\n",
      " |  \n",
      " |  isdigit(self, /)\n",
      " |      Return True if the string is a digit string, False otherwise.\n",
      " |      \n",
      " |      A string is a digit string if all characters in the string are digits and there\n",
      " |      is at least one character in the string.\n",
      " |  \n",
      " |  isidentifier(self, /)\n",
      " |      Return True if the string is a valid Python identifier, False otherwise.\n",
      " |      \n",
      " |      Call keyword.iskeyword(s) to test whether string s is a reserved identifier,\n",
      " |      such as \"def\" or \"class\".\n",
      " |  \n",
      " |  islower(self, /)\n",
      " |      Return True if the string is a lowercase string, False otherwise.\n",
      " |      \n",
      " |      A string is lowercase if all cased characters in the string are lowercase and\n",
      " |      there is at least one cased character in the string.\n",
      " |  \n",
      " |  isnumeric(self, /)\n",
      " |      Return True if the string is a numeric string, False otherwise.\n",
      " |      \n",
      " |      A string is numeric if all characters in the string are numeric and there is at\n",
      " |      least one character in the string.\n",
      " |  \n",
      " |  isprintable(self, /)\n",
      " |      Return True if the string is printable, False otherwise.\n",
      " |      \n",
      " |      A string is printable if all of its characters are considered printable in\n",
      " |      repr() or if it is empty.\n",
      " |  \n",
      " |  isspace(self, /)\n",
      " |      Return True if the string is a whitespace string, False otherwise.\n",
      " |      \n",
      " |      A string is whitespace if all characters in the string are whitespace and there\n",
      " |      is at least one character in the string.\n",
      " |  \n",
      " |  istitle(self, /)\n",
      " |      Return True if the string is a title-cased string, False otherwise.\n",
      " |      \n",
      " |      In a title-cased string, upper- and title-case characters may only\n",
      " |      follow uncased characters and lowercase characters only cased ones.\n",
      " |  \n",
      " |  isupper(self, /)\n",
      " |      Return True if the string is an uppercase string, False otherwise.\n",
      " |      \n",
      " |      A string is uppercase if all cased characters in the string are uppercase and\n",
      " |      there is at least one cased character in the string.\n",
      " |  \n",
      " |  join(self, iterable, /)\n",
      " |      Concatenate any number of strings.\n",
      " |      \n",
      " |      The string whose method is called is inserted in between each given string.\n",
      " |      The result is returned as a new string.\n",
      " |      \n",
      " |      Example: '.'.join(['ab', 'pq', 'rs']) -> 'ab.pq.rs'\n",
      " |  \n",
      " |  ljust(self, width, fillchar=' ', /)\n",
      " |      Return a left-justified string of length width.\n",
      " |      \n",
      " |      Padding is done using the specified fill character (default is a space).\n",
      " |  \n",
      " |  lower(self, /)\n",
      " |      Return a copy of the string converted to lowercase.\n",
      " |  \n",
      " |  lstrip(self, chars=None, /)\n",
      " |      Return a copy of the string with leading whitespace removed.\n",
      " |      \n",
      " |      If chars is given and not None, remove characters in chars instead.\n",
      " |  \n",
      " |  partition(self, sep, /)\n",
      " |      Partition the string into three parts using the given separator.\n",
      " |      \n",
      " |      This will search for the separator in the string.  If the separator is found,\n",
      " |      returns a 3-tuple containing the part before the separator, the separator\n",
      " |      itself, and the part after it.\n",
      " |      \n",
      " |      If the separator is not found, returns a 3-tuple containing the original string\n",
      " |      and two empty strings.\n",
      " |  \n",
      " |  removeprefix(self, prefix, /)\n",
      " |      Return a str with the given prefix string removed if present.\n",
      " |      \n",
      " |      If the string starts with the prefix string, return string[len(prefix):].\n",
      " |      Otherwise, return a copy of the original string.\n",
      " |  \n",
      " |  removesuffix(self, suffix, /)\n",
      " |      Return a str with the given suffix string removed if present.\n",
      " |      \n",
      " |      If the string ends with the suffix string and that suffix is not empty,\n",
      " |      return string[:-len(suffix)]. Otherwise, return a copy of the original\n",
      " |      string.\n",
      " |  \n",
      " |  replace(self, old, new, count=-1, /)\n",
      " |      Return a copy with all occurrences of substring old replaced by new.\n",
      " |      \n",
      " |        count\n",
      " |          Maximum number of occurrences to replace.\n",
      " |          -1 (the default value) means replace all occurrences.\n",
      " |      \n",
      " |      If the optional argument count is given, only the first count occurrences are\n",
      " |      replaced.\n",
      " |  \n",
      " |  rfind(...)\n",
      " |      S.rfind(sub[, start[, end]]) -> int\n",
      " |      \n",
      " |      Return the highest index in S where substring sub is found,\n",
      " |      such that sub is contained within S[start:end].  Optional\n",
      " |      arguments start and end are interpreted as in slice notation.\n",
      " |      \n",
      " |      Return -1 on failure.\n",
      " |  \n",
      " |  rindex(...)\n",
      " |      S.rindex(sub[, start[, end]]) -> int\n",
      " |      \n",
      " |      Return the highest index in S where substring sub is found,\n",
      " |      such that sub is contained within S[start:end].  Optional\n",
      " |      arguments start and end are interpreted as in slice notation.\n",
      " |      \n",
      " |      Raises ValueError when the substring is not found.\n",
      " |  \n",
      " |  rjust(self, width, fillchar=' ', /)\n",
      " |      Return a right-justified string of length width.\n",
      " |      \n",
      " |      Padding is done using the specified fill character (default is a space).\n",
      " |  \n",
      " |  rpartition(self, sep, /)\n",
      " |      Partition the string into three parts using the given separator.\n",
      " |      \n",
      " |      This will search for the separator in the string, starting at the end. If\n",
      " |      the separator is found, returns a 3-tuple containing the part before the\n",
      " |      separator, the separator itself, and the part after it.\n",
      " |      \n",
      " |      If the separator is not found, returns a 3-tuple containing two empty strings\n",
      " |      and the original string.\n",
      " |  \n",
      " |  rsplit(self, /, sep=None, maxsplit=-1)\n",
      " |      Return a list of the words in the string, using sep as the delimiter string.\n",
      " |      \n",
      " |        sep\n",
      " |          The delimiter according which to split the string.\n",
      " |          None (the default value) means split according to any whitespace,\n",
      " |          and discard empty strings from the result.\n",
      " |        maxsplit\n",
      " |          Maximum number of splits to do.\n",
      " |          -1 (the default value) means no limit.\n",
      " |      \n",
      " |      Splits are done starting at the end of the string and working to the front.\n",
      " |  \n",
      " |  rstrip(self, chars=None, /)\n",
      " |      Return a copy of the string with trailing whitespace removed.\n",
      " |      \n",
      " |      If chars is given and not None, remove characters in chars instead.\n",
      " |  \n",
      " |  split(self, /, sep=None, maxsplit=-1)\n",
      " |      Return a list of the words in the string, using sep as the delimiter string.\n",
      " |      \n",
      " |      sep\n",
      " |        The delimiter according which to split the string.\n",
      " |        None (the default value) means split according to any whitespace,\n",
      " |        and discard empty strings from the result.\n",
      " |      maxsplit\n",
      " |        Maximum number of splits to do.\n",
      " |        -1 (the default value) means no limit.\n",
      " |  \n",
      " |  splitlines(self, /, keepends=False)\n",
      " |      Return a list of the lines in the string, breaking at line boundaries.\n",
      " |      \n",
      " |      Line breaks are not included in the resulting list unless keepends is given and\n",
      " |      true.\n",
      " |  \n",
      " |  startswith(...)\n",
      " |      S.startswith(prefix[, start[, end]]) -> bool\n",
      " |      \n",
      " |      Return True if S starts with the specified prefix, False otherwise.\n",
      " |      With optional start, test S beginning at that position.\n",
      " |      With optional end, stop comparing S at that position.\n",
      " |      prefix can also be a tuple of strings to try.\n",
      " |  \n",
      " |  strip(self, chars=None, /)\n",
      " |      Return a copy of the string with leading and trailing whitespace removed.\n",
      " |      \n",
      " |      If chars is given and not None, remove characters in chars instead.\n",
      " |  \n",
      " |  swapcase(self, /)\n",
      " |      Convert uppercase characters to lowercase and lowercase characters to uppercase.\n",
      " |  \n",
      " |  title(self, /)\n",
      " |      Return a version of the string where each word is titlecased.\n",
      " |      \n",
      " |      More specifically, words start with uppercased characters and all remaining\n",
      " |      cased characters have lower case.\n",
      " |  \n",
      " |  translate(self, table, /)\n",
      " |      Replace each character in the string using the given translation table.\n",
      " |      \n",
      " |        table\n",
      " |          Translation table, which must be a mapping of Unicode ordinals to\n",
      " |          Unicode ordinals, strings, or None.\n",
      " |      \n",
      " |      The table must implement lookup/indexing via __getitem__, for instance a\n",
      " |      dictionary or list.  If this operation raises LookupError, the character is\n",
      " |      left untouched.  Characters mapped to None are deleted.\n",
      " |  \n",
      " |  upper(self, /)\n",
      " |      Return a copy of the string converted to uppercase.\n",
      " |  \n",
      " |  zfill(self, width, /)\n",
      " |      Pad a numeric string with zeros on the left, to fill a field of the given width.\n",
      " |      \n",
      " |      The string is never truncated.\n",
      " |  \n",
      " |  ----------------------------------------------------------------------\n",
      " |  Static methods defined here:\n",
      " |  \n",
      " |  __new__(*args, **kwargs) from builtins.type\n",
      " |      Create and return a new object.  See help(type) for accurate signature.\n",
      " |  \n",
      " |  maketrans(...)\n",
      " |      Return a translation table usable for str.translate().\n",
      " |      \n",
      " |      If there is only one argument, it must be a dictionary mapping Unicode\n",
      " |      ordinals (integers) or characters to Unicode ordinals, strings or None.\n",
      " |      Character keys will be then converted to ordinals.\n",
      " |      If there are two arguments, they must be strings of equal length, and\n",
      " |      in the resulting dictionary, each character in x will be mapped to the\n",
      " |      character at the same position in y. If there is a third argument, it\n",
      " |      must be a string, whose characters will be mapped to None in the result.\n",
      "\n"
     ]
    }
   ],
   "source": [
    "help(str)"
   ]
  },
  {
   "cell_type": "raw",
   "id": "30848145",
   "metadata": {},
   "source": [
    "capitalize(self, /)\n",
    " |      Return a capitalized version of the string.\n",
    " |      \n",
    " |      More specifically, make the first character have upper case and the rest lower\n",
    " |      case.\n",
    " |  \n",
    " |  casefold(self, /)\n",
    " |      Return a version of the string suitable for caseless comparisons.\n",
    " |  \n",
    " |  center(self, width, fillchar=' ', /)\n",
    " |      Return a centered string of length width.\n",
    " |      \n",
    " |      Padding is done using the specified fill character (default is a space).\n",
    " |  \n",
    " |  count(...)\n",
    " |      S.count(sub[, start[, end]]) -> int\n",
    " |      \n",
    " |      Return the number of non-overlapping occurrences of substring sub in\n",
    " |      string S[start:end].  Optional arguments start and end are\n",
    " |      interpreted as in slice notation.\n",
    " |  \n",
    " |  encode(self, /, encoding='utf-8', errors='strict')\n",
    " |      Encode the string using the codec registered for encoding.\n",
    " |      \n",
    " |      encoding\n",
    " |        The encoding in which to encode the string.\n",
    " |      errors\n",
    " |        The error handling scheme to use for encoding errors.\n",
    " |        The default is 'strict' meaning that encoding errors raise a\n",
    " |        UnicodeEncodeError.  Other possible values are 'ignore', 'replace' and\n",
    " |        'xmlcharrefreplace' as well as any other name registered with\n",
    " |        codecs.register_error that can handle UnicodeEncodeErrors.\n",
    " |  \n",
    " |  endswith(...)\n",
    " |      S.endswith(suffix[, start[, end]]) -> bool\n",
    " |      \n",
    " |      Return True if S ends with the specified suffix, False otherwise.\n",
    " |      With optional start, test S beginning at that position.\n",
    " |      With optional end, stop comparing S at that position.\n",
    " |      suffix can also be a tuple of strings to try.\n",
    " |  \n",
    " |  expandtabs(self, /, tabsize=8)\n",
    " |      Return a copy where all tab characters are expanded using spaces.\n",
    " |      \n",
    " |      If tabsize is not given, a tab size of 8 characters is assumed.\n",
    " |  \n",
    " |  find(...)\n",
    " |      S.find(sub[, start[, end]]) -> int\n",
    " |      \n",
    " |      Return the lowest index in S where substring sub is found,\n",
    " |      such that sub is contained within S[start:end].  Optional\n",
    " |      arguments start and end are interpreted as in slice notation.\n",
    " |      \n",
    " |      Return -1 on failure.\n",
    " |  \n",
    " |  format(...)\n",
    " |      S.format(*args, **kwargs) -> str\n",
    " |      \n",
    " |      Return a formatted version of S, using substitutions from args and kwargs.\n",
    " |      The substitutions are identified by braces ('{' and '}').\n",
    " |  \n",
    " |  format_map(...)\n",
    " |      S.format_map(mapping) -> str\n",
    " |      \n",
    " |      Return a formatted version of S, using substitutions from mapping.\n",
    " |      The substitutions are identified by braces ('{' and '}').\n",
    " |  \n",
    " |  index(...)\n",
    " |      S.index(sub[, start[, end]]) -> int\n",
    " |      \n",
    " |      Return the lowest index in S where substring sub is found,\n",
    " |      such that sub is contained within S[start:end].  Optional\n",
    " |      arguments start and end are interpreted as in slice notation.\n",
    " |      \n",
    " |      Raises ValueError when the substring is not found.\n",
    " |  \n",
    " |  isalnum(self, /)\n",
    " |      Return True if the string is an alpha-numeric string, False otherwise.\n",
    " |      \n",
    " |      A string is alpha-numeric if all characters in the string are alpha-numeric and\n",
    " |      there is at least one character in the string.\n",
    " |  \n",
    " |  isalpha(self, /)\n",
    " |      Return True if the string is an alphabetic string, False otherwise.\n",
    " |      \n",
    " |      A string is alphabetic if all characters in the string are alphabetic and there\n",
    " |      is at least one character in the string.\n",
    " |  \n",
    " |  isascii(self, /)\n",
    " |      Return True if all characters in the string are ASCII, False otherwise.\n",
    " |      \n",
    " |      ASCII characters have code points in the range U+0000-U+007F.\n",
    " |      Empty string is ASCII too.\n",
    " |  \n",
    " |  isdecimal(self, /)\n",
    " |      Return True if the string is a decimal string, False otherwise.\n",
    " |      \n",
    " |      A string is a decimal string if all characters in the string are decimal and\n",
    " |      there is at least one character in the string.\n",
    " |  \n",
    " |  isdigit(self, /)\n",
    " |      Return True if the string is a digit string, False otherwise.\n",
    " |      \n",
    " |      A string is a digit string if all characters in the string are digits and there\n",
    " |      is at least one character in the string.\n",
    " |  \n",
    " |  isidentifier(self, /)\n",
    " |      Return True if the string is a valid Python identifier, False otherwise.\n",
    " |      \n",
    " |      Call keyword.iskeyword(s) to test whether string s is a reserved identifier,\n",
    " |      such as \"def\" or \"class\".\n",
    " |  \n",
    " |  islower(self, /)\n",
    " |      Return True if the string is a lowercase string, False otherwise.\n",
    " |      \n",
    " |      A string is lowercase if all cased characters in the string are lowercase and\n",
    " |      there is at least one cased character in the string.\n",
    " |  \n",
    " |  isnumeric(self, /)\n",
    " |      Return True if the string is a numeric string, False otherwise.\n",
    " |      \n",
    " |      A string is numeric if all characters in the string are numeric and there is at\n",
    " |      least one character in the string.\n",
    " |  \n",
    " |  isprintable(self, /)\n",
    " |      Return True if the string is printable, False otherwise.\n",
    " |      \n",
    " |      A string is printable if all of its characters are considered printable in\n",
    " |      repr() or if it is empty.\n",
    " |  \n",
    " |  isspace(self, /)\n",
    " |      Return True if the string is a whitespace string, False otherwise.\n",
    " |      \n",
    " |      A string is whitespace if all characters in the string are whitespace and there\n",
    " |      is at least one character in the string.\n",
    " |  \n",
    " |  istitle(self, /)\n",
    " |      Return True if the string is a title-cased string, False otherwise.\n",
    " |      \n",
    " |      In a title-cased string, upper- and title-case characters may only\n",
    " |      follow uncased characters and lowercase characters only cased ones.\n",
    " |  \n",
    " |  isupper(self, /)\n",
    " |      Return True if the string is an uppercase string, False otherwise.\n",
    " |      \n",
    " |      A string is uppercase if all cased characters in the string are uppercase and\n",
    " |      there is at least one cased character in the string.\n",
    " |  \n",
    " |  join(self, iterable, /)\n",
    " |      Concatenate any number of strings.\n",
    " |      \n",
    " |      The string whose method is called is inserted in between each given string.\n",
    " |      The result is returned as a new string.\n",
    " |      \n",
    " |      Example: '.'.join(['ab', 'pq', 'rs']) -> 'ab.pq.rs'\n",
    " |  \n",
    " |  ljust(self, width, fillchar=' ', /)\n",
    " |      Return a left-justified string of length width.\n",
    " |      \n",
    " |      Padding is done using the specified fill character (default is a space).\n",
    " |  \n",
    " |  lower(self, /)\n",
    " |      Return a copy of the string converted to lowercase.\n",
    " |  \n",
    " |  lstrip(self, chars=None, /)\n",
    " |      Return a copy of the string with leading whitespace removed.\n",
    " |      \n",
    " |      If chars is given and not None, remove characters in chars instead.\n",
    " |  \n",
    " |  partition(self, sep, /)\n",
    " |      Partition the string into three parts using the given separator.\n",
    " |      \n",
    " |      This will search for the separator in the string.  If the separator is found,\n",
    " |      returns a 3-tuple containing the part before the separator, the separator\n",
    " |      itself, and the part after it.\n",
    " |      \n",
    " |      If the separator is not found, returns a 3-tuple containing the original string\n",
    " |      and two empty strings.\n",
    " |  \n",
    " |  removeprefix(self, prefix, /)\n",
    " |      Return a str with the given prefix string removed if present.\n",
    " |      \n",
    " |      If the string starts with the prefix string, return string[len(prefix):].\n",
    " |      Otherwise, return a copy of the original string.\n",
    " |  \n",
    " |  removesuffix(self, suffix, /)\n",
    " |      Return a str with the given suffix string removed if present.\n",
    " |      \n",
    " |      If the string ends with the suffix string and that suffix is not empty,\n",
    " |      return string[:-len(suffix)]. Otherwise, return a copy of the original\n",
    " |      string.\n",
    " |  \n",
    " |  replace(self, old, new, count=-1, /)\n",
    " |      Return a copy with all occurrences of substring old replaced by new.\n",
    " |      \n",
    " |        count\n",
    " |          Maximum number of occurrences to replace.\n",
    " |          -1 (the default value) means replace all occurrences.\n",
    " |      \n",
    " |      If the optional argument count is given, only the first count occurrences are\n",
    " |      replaced.\n",
    " |  \n",
    " |  rfind(...)\n",
    " |      S.rfind(sub[, start[, end]]) -> int\n",
    " |      \n",
    " |      Return the highest index in S where substring sub is found,\n",
    " |      such that sub is contained within S[start:end].  Optional\n",
    " |      arguments start and end are interpreted as in slice notation.\n",
    " |      \n",
    " |      Return -1 on failure.\n",
    " |  \n",
    " |  rindex(...)\n",
    " |      S.rindex(sub[, start[, end]]) -> int\n",
    " |      \n",
    " |      Return the highest index in S where substring sub is found,\n",
    " |      such that sub is contained within S[start:end].  Optional\n",
    " |      arguments start and end are interpreted as in slice notation.\n",
    " |      \n",
    " |      Raises ValueError when the substring is not found.\n",
    " |  \n",
    " |  rjust(self, width, fillchar=' ', /)\n",
    " |      Return a right-justified string of length width.\n",
    " |      \n",
    " |      Padding is done using the specified fill character (default is a space).\n",
    " |  \n",
    " |  rpartition(self, sep, /)\n",
    " |      Partition the string into three parts using the given separator.\n",
    " |      \n",
    " |      This will search for the separator in the string, starting at the end. If\n",
    " |      the separator is found, returns a 3-tuple containing the part before the\n",
    " |      separator, the separator itself, and the part after it.\n",
    " |      \n",
    " |      If the separator is not found, returns a 3-tuple containing two empty strings\n",
    " |      and the original string.\n",
    " |  \n",
    " | print(x.rpartition('a'))\n",
    " |  \n",
    " |  rstrip(self, chars=None, /)\n",
    " |      Return a copy of the string with trailing whitespace removed.\n",
    " |      \n",
    " |      If chars is given and not None, remove characters in chars instead.\n",
    " |  \n",
    " |  split(self, /, sep=None, maxsplit=-1)\n",
    " |      Return a list of the words in the string, using sep as the delimiter string.\n",
    " |      \n",
    " |      sep\n",
    " |        The delimiter according which to split the string.\n",
    " |        None (the default value) means split according to any whitespace,\n",
    " |        and discard empty strings from the result.\n",
    " |      maxsplit\n",
    " |        Maximum number of splits to do.\n",
    " |        -1 (the default value) means no limit.\n",
    " |  \n",
    " |  splitlines(self, /, keepends=False)\n",
    " |      Return a list of the lines in the string, breaking at line boundaries.\n",
    " |      \n",
    " |      Line breaks are not included in the resulting list unless keepends is given and\n",
    " |      true.\n",
    " |  \n",
    " |  startswith(...)\n",
    " |      S.startswith(prefix[, start[, end]]) -> bool\n",
    " |      \n",
    " |      Return True if S starts with the specified prefix, False otherwise.\n",
    " |      With optional start, test S beginning at that position.\n",
    " |      With optional end, stop comparing S at that position.\n",
    " |      prefix can also be a tuple of strings to try.\n",
    " |  \n",
    " |  strip(self, chars=None, /)\n",
    " |      Return a copy of the string with leading and trailing whitespace removed.\n",
    " |      \n",
    " |      If chars is given and not None, remove characters in chars instead.\n",
    " |  \n",
    " |  swapcase(self, /)\n",
    " |      Convert uppercase characters to lowercase and lowercase characters to uppercase.\n",
    " |  \n",
    " |  title(self, /)\n",
    " |      Return a version of the string where each word is titlecased.\n",
    " |      \n",
    " |      More specifically, words start with uppercased characters and all remaining\n",
    " |      cased characters have lower case.\n",
    " |  \n",
    " |  translate(self, table, /)\n",
    " |      Replace each character in the string using the given translation table.\n",
    " |      \n",
    " |        table\n",
    " |          Translation table, which must be a mapping of Unicode ordinals to\n",
    " |          Unicode ordinals, strings, or None.\n",
    " |      \n",
    " |      The table must implement lookup/indexing via __getitem__, for instance a\n",
    " |      dictionary or list.  If this operation raises LookupError, the character is\n",
    " |      left untouched.  Characters mapped to None are deleted.\n",
    " |  \n",
    " |  upper(self, /)\n",
    " |      Return a copy of the string converted to uppercase.\n",
    " |  \n",
    " |  zfill(self, width, /)\n",
    " |      Pad a numeric string with zeros on the left, to fill a field of the given width.\n",
    " |      \n",
    " |      The string is never truncated.\n",
    " |  \n",
    " |  ----------------------------------------------------------------------\n",
    " |  Static methods defined here:\n",
    " |  \n",
    " |  __new__(*args, **kwargs) from builtins.type\n",
    " |      Create and return a new object.  See help(type) for accurate signature.\n",
    " |  \n",
    " |  maketrans(...)\n",
    " |      Return a translation table usable for str.translate().\n",
    " |      \n",
    " |      If there is only one argument, it must be a dictionary mapping Unicode\n",
    " |      ordinals (integers) or characters to Unicode ordinals, strings or None.\n",
    " |      Character keys will be then converted to ordinals.\n",
    " |      If there are two arguments, they must be strings of equal length, and\n",
    " |      in the resulting dictionary, each character in x will be mapped to the\n",
    " |      character at the same position in y. If there is a third argument, it\n",
    " |      must be a string, whose characters will be mapped to None in the result.\n",
    "\n",
    "1\n",
    "​"
   ]
  },
  {
   "cell_type": "code",
   "execution_count": 22,
   "id": "a96ccf67",
   "metadata": {},
   "outputs": [
    {
     "name": "stdout",
     "output_type": "stream",
     "text": [
      "python\n",
      "<class 'bytes'>\n",
      "<class 'str'>\n",
      "b'python'\n"
     ]
    }
   ],
   "source": [
    "\"\"\"encode(self, /, encoding='utf-8', errors='strict')\n",
    "       Encode the string using the codec registered for encoding.\n",
    "     \"\"\"\n",
    "s = 'python'\n",
    "print(s)\n",
    "t = s.encode()\n",
    "print(type(t))\n",
    "print(type(s))\n",
    "print(t)"
   ]
  },
  {
   "cell_type": "code",
   "execution_count": 29,
   "id": "d4c93698",
   "metadata": {},
   "outputs": [
    {
     "name": "stdout",
     "output_type": "stream",
     "text": [
      "<class 'bytes'>\n",
      "<class 'bytes'>\n",
      "b'python? java'\n",
      "b'python? java'\n"
     ]
    }
   ],
   "source": [
    "s = 'python? java'\n",
    "v = s.encode(encoding = 'ascii',errors = 'replace')\n",
    "u = s.encode(encoding = 'ascii',errors = 'strict')\n",
    "print(type(v))\n",
    "print(type(u))\n",
    "print(v)\n",
    "print(u)"
   ]
  },
  {
   "cell_type": "code",
   "execution_count": 27,
   "id": "12103077",
   "metadata": {},
   "outputs": [
    {
     "name": "stdout",
     "output_type": "stream",
     "text": [
      "b'My name is St\\xc3\\xa5le'\n",
      "b'My name is St?le'\n",
      "b'My name is St\\\\xe5le'\n",
      "b'My name is Stle'\n"
     ]
    },
    {
     "ename": "UnicodeEncodeError",
     "evalue": "'ascii' codec can't encode character '\\xe5' in position 13: ordinal not in range(128)",
     "output_type": "error",
     "traceback": [
      "\u001b[1;31m---------------------------------------------------------------------------\u001b[0m",
      "\u001b[1;31mUnicodeEncodeError\u001b[0m                        Traceback (most recent call last)",
      "Input \u001b[1;32mIn [27]\u001b[0m, in \u001b[0;36m<cell line: 6>\u001b[1;34m()\u001b[0m\n\u001b[0;32m      4\u001b[0m \u001b[38;5;28mprint\u001b[39m(txt\u001b[38;5;241m.\u001b[39mencode(encoding \u001b[38;5;241m=\u001b[39m \u001b[38;5;124m'\u001b[39m\u001b[38;5;124mascii\u001b[39m\u001b[38;5;124m'\u001b[39m,errors \u001b[38;5;241m=\u001b[39m \u001b[38;5;124m'\u001b[39m\u001b[38;5;124mbackslashreplace\u001b[39m\u001b[38;5;124m'\u001b[39m))\n\u001b[0;32m      5\u001b[0m \u001b[38;5;28mprint\u001b[39m(txt\u001b[38;5;241m.\u001b[39mencode(encoding \u001b[38;5;241m=\u001b[39m \u001b[38;5;124m'\u001b[39m\u001b[38;5;124mascii\u001b[39m\u001b[38;5;124m'\u001b[39m,errors \u001b[38;5;241m=\u001b[39m \u001b[38;5;124m'\u001b[39m\u001b[38;5;124mignore\u001b[39m\u001b[38;5;124m'\u001b[39m))\n\u001b[1;32m----> 6\u001b[0m \u001b[38;5;28mprint\u001b[39m(\u001b[43mtxt\u001b[49m\u001b[38;5;241;43m.\u001b[39;49m\u001b[43mencode\u001b[49m\u001b[43m(\u001b[49m\u001b[43mencoding\u001b[49m\u001b[43m \u001b[49m\u001b[38;5;241;43m=\u001b[39;49m\u001b[43m \u001b[49m\u001b[38;5;124;43m'\u001b[39;49m\u001b[38;5;124;43mascii\u001b[39;49m\u001b[38;5;124;43m'\u001b[39;49m\u001b[43m,\u001b[49m\u001b[43merrors\u001b[49m\u001b[43m \u001b[49m\u001b[38;5;241;43m=\u001b[39;49m\u001b[43m \u001b[49m\u001b[38;5;124;43m'\u001b[39;49m\u001b[38;5;124;43mstrict\u001b[39;49m\u001b[38;5;124;43m'\u001b[39;49m\u001b[43m)\u001b[49m)\n",
      "\u001b[1;31mUnicodeEncodeError\u001b[0m: 'ascii' codec can't encode character '\\xe5' in position 13: ordinal not in range(128)"
     ]
    }
   ],
   "source": [
    "txt = \"My name is Ståle\"\n",
    "print(txt.encode())\n",
    "print(txt.encode(encoding = 'ascii',errors = 'replace'))\n",
    "print(txt.encode(encoding = 'ascii',errors = 'backslashreplace'))\n",
    "print(txt.encode(encoding = 'ascii',errors = 'ignore'))\n",
    "print(txt.encode(encoding = 'ascii',errors = 'strict'))\n"
   ]
  },
  {
   "cell_type": "code",
   "execution_count": 41,
   "id": "0fce4255",
   "metadata": {},
   "outputs": [
    {
     "name": "stdout",
     "output_type": "stream",
     "text": [
      "data                    scien                 tist\n",
      "49\n",
      "p       y       t       h       o       n       y\n",
      "laptop\n"
     ]
    }
   ],
   "source": [
    "\"\"\"expandtabs(self, /, tabsize=8)\n",
    " |      Return a copy where all tab characters are expanded using spaces.\n",
    " |      \n",
    " |      If tabsize is not given, a tab size of 8 characters is assumed.\n",
    " |  \"\"\"\n",
    "s = 'p\\ty\\tt\\th\\to\\tn\\ty'\n",
    "t = s.expandtabs()\n",
    "x = 'data\\t scien\\ttist'\n",
    "print(x.expandtabs(23))\n",
    "print(len(t))\n",
    "print(t)\n",
    "z = 'laptop'\n",
    "print(z.expandtabs())"
   ]
  },
  {
   "cell_type": "code",
   "execution_count": null,
   "id": "d8149a49",
   "metadata": {},
   "outputs": [],
   "source": []
  },
  {
   "cell_type": "code",
   "execution_count": 42,
   "id": "a801f35a",
   "metadata": {},
   "outputs": [
    {
     "name": "stdout",
     "output_type": "stream",
     "text": [
      "8\n",
      "-1\n"
     ]
    }
   ],
   "source": [
    "\"\"\"find(...)\n",
    " |      S.find(sub[, start[, end]]) -> int\n",
    " |      \n",
    " |      Return the lowest index in S where substring sub is found,\n",
    " |      such that sub is contained within S[start:end].  Optional\n",
    " |      arguments start and end are interpreted as in slice notation.\n",
    " |      \n",
    " |      Return -1 on failure.\n",
    " |  \"\"\"\n",
    "name = \"My name is lakhan jadam\"\n",
    "x = 'data scientist'\n",
    "print(name.find('is'))\n",
    "print(name.find('are'))\n"
   ]
  },
  {
   "cell_type": "code",
   "execution_count": 50,
   "id": "7ec26a53",
   "metadata": {},
   "outputs": [
    {
     "name": "stdout",
     "output_type": "stream",
     "text": [
      "My name is Atul Astay\n"
     ]
    }
   ],
   "source": [
    "\"\"\"format(...)\n",
    " |      S.format(*args, **kwargs) -> str\n",
    " |      \n",
    " |      Return a formatted version of S, using substitutions from args and kwargs.\n",
    " |      The substitutions are identified by braces ('{' and '}').\n",
    " |  \n",
    " |  format\"\"\"\n",
    "name = \"Atul\"\n",
    "surname = \"Astay\"\n",
    "print(\"My name is {} {}\".format(name,surname))"
   ]
  },
  {
   "cell_type": "code",
   "execution_count": 51,
   "id": "4b52ab7d",
   "metadata": {},
   "outputs": [
    {
     "name": "stdout",
     "output_type": "stream",
     "text": [
      "atul\n",
      "asta\n",
      "data scientist\n",
      "My name is atul asta, and i am a  data scientist\n"
     ]
    }
   ],
   "source": [
    "name = input()\n",
    "surname = input()\n",
    "designation = input()\n",
    "\n",
    "print(\"My name is {v1} {v2}, and i am a  {v3}\".format(v3 = designation, v2 = surname, v1 = name))"
   ]
  },
  {
   "cell_type": "code",
   "execution_count": 48,
   "id": "d8f080a4",
   "metadata": {},
   "outputs": [
    {
     "name": "stdout",
     "output_type": "stream",
     "text": [
      "4\n",
      "-1\n"
     ]
    },
    {
     "ename": "ValueError",
     "evalue": "substring not found",
     "output_type": "error",
     "traceback": [
      "\u001b[1;31m---------------------------------------------------------------------------\u001b[0m",
      "\u001b[1;31mValueError\u001b[0m                                Traceback (most recent call last)",
      "Input \u001b[1;32mIn [48]\u001b[0m, in \u001b[0;36m<cell line: 14>\u001b[1;34m()\u001b[0m\n\u001b[0;32m     12\u001b[0m \u001b[38;5;28mprint\u001b[39m(s\u001b[38;5;241m.\u001b[39mindex(\u001b[38;5;124m'\u001b[39m\u001b[38;5;124mo\u001b[39m\u001b[38;5;124m'\u001b[39m))\n\u001b[0;32m     13\u001b[0m \u001b[38;5;28mprint\u001b[39m(s\u001b[38;5;241m.\u001b[39mfind(\u001b[38;5;124m'\u001b[39m\u001b[38;5;124mm\u001b[39m\u001b[38;5;124m'\u001b[39m))\n\u001b[1;32m---> 14\u001b[0m \u001b[38;5;28mprint\u001b[39m(\u001b[43ms\u001b[49m\u001b[38;5;241;43m.\u001b[39;49m\u001b[43mindex\u001b[49m\u001b[43m(\u001b[49m\u001b[38;5;124;43m'\u001b[39;49m\u001b[38;5;124;43mm\u001b[39;49m\u001b[38;5;124;43m'\u001b[39;49m\u001b[43m)\u001b[49m)\n",
      "\u001b[1;31mValueError\u001b[0m: substring not found"
     ]
    }
   ],
   "source": [
    "\"\"\" index(...)\n",
    " |      S.index(sub[, start[, end]]) -> int\n",
    " |      \n",
    " |      Return the lowest index in S where substring sub is found,\n",
    " |      such that sub is contained within S[start:end].  Optional\n",
    " |      arguments start and end are interpreted as in slice notation.\n",
    " |      \n",
    " |      Raises ValueError when the substring is not found.\n",
    " | \"\"\"\n",
    "\n",
    "s ='python'\n",
    "print(s.index('o'))\n",
    "print(s.find('m'))\n",
    "print(s.index('m'))"
   ]
  },
  {
   "cell_type": "code",
   "execution_count": 56,
   "id": "5f2ca09a",
   "metadata": {},
   "outputs": [
    {
     "name": "stdout",
     "output_type": "stream",
     "text": [
      "True\n"
     ]
    }
   ],
   "source": [
    "\"\"\" isalnum(self, /)\n",
    " |      Return True if the string is an alpha-numeric string, False otherwise.\n",
    " |      \n",
    " |      A string is alpha-numeric if all characters in the string are alpha-numeric and\n",
    " |      there is at least one character in the string.\n",
    " | \"\"\"\n",
    "\n",
    "x = 'abhishek12'\n",
    "print(x.isalnum())"
   ]
  },
  {
   "cell_type": "code",
   "execution_count": 57,
   "id": "a0c4adac",
   "metadata": {},
   "outputs": [
    {
     "name": "stdout",
     "output_type": "stream",
     "text": [
      "False\n"
     ]
    }
   ],
   "source": [
    "x = 'abhishek 12'\n",
    "print(x.isalnum())"
   ]
  },
  {
   "cell_type": "code",
   "execution_count": 58,
   "id": "ccfe24db",
   "metadata": {},
   "outputs": [
    {
     "name": "stdout",
     "output_type": "stream",
     "text": [
      "True\n"
     ]
    }
   ],
   "source": [
    "y = '7889'\n",
    "print(y.isalnum())"
   ]
  },
  {
   "cell_type": "code",
   "execution_count": 47,
   "id": "ab22439a",
   "metadata": {},
   "outputs": [
    {
     "name": "stdout",
     "output_type": "stream",
     "text": [
      "True\n"
     ]
    }
   ],
   "source": [
    "z = \"aljaddjfjs\"\n",
    "print(z.isalnum())"
   ]
  },
  {
   "cell_type": "code",
   "execution_count": 46,
   "id": "b9a16fd2",
   "metadata": {},
   "outputs": [
    {
     "name": "stdout",
     "output_type": "stream",
     "text": [
      "True\n"
     ]
    }
   ],
   "source": [
    "\"\"\" isalpha(self, /)\n",
    " |      Return True if the string is an alphabetic string, False otherwise.\n",
    " |      \n",
    " |      A string is alphabetic if all characters in the string are alphabetic and there\n",
    " |      is at least one character in the string.\n",
    " |  \"\"\"\n",
    "#print(y.isalpha())\n",
    "#print(z.isalpha())\n",
    "a = 'python'\n",
    "print(a.isalpha())"
   ]
  },
  {
   "cell_type": "code",
   "execution_count": 63,
   "id": "2c58f860",
   "metadata": {},
   "outputs": [
    {
     "name": "stdout",
     "output_type": "stream",
     "text": [
      "True\n",
      "False\n"
     ]
    }
   ],
   "source": [
    "\"\"\"isascii(self, /)\n",
    " |      Return True if all characters in the string are ASCII, False otherwise.\n",
    " |      \n",
    " |      ASCII characters have code points in the range U+0000-U+007F.\n",
    " |      Empty string is ASCII too.\n",
    " |  \"\"\"\n",
    "\n",
    "x = 'python'\n",
    "print(x.isascii())\n",
    "y = 'Ståle'\n",
    "print(y.isascii())\n"
   ]
  },
  {
   "cell_type": "code",
   "execution_count": 42,
   "id": "0a269b1c",
   "metadata": {},
   "outputs": [
    {
     "name": "stdout",
     "output_type": "stream",
     "text": [
      "True\n",
      "False\n",
      "False\n",
      "True\n",
      "False\n"
     ]
    }
   ],
   "source": [
    "\"\"\"isdecimal(self, /)\n",
    " |      Return True if the string is a decimal string, False otherwise.\n",
    " |      \n",
    " |      A string is a decimal string if all characters in the string are decimal and\n",
    " |      there is at least one character in the string.\n",
    " |  \"\"\"\n",
    "\n",
    "x = \"4535\"\n",
    "print(x.isdecimal())\n",
    "y = 'ppython535'\n",
    "print(y.isdecimal())\n",
    "z = '45.78'\n",
    "print(z.isdecimal())\n",
    "a = '\\u0033'\n",
    "print(a.isdecimal())\n",
    "b = '\\u0040'\n",
    "print(b.isdecimal())"
   ]
  },
  {
   "cell_type": "code",
   "execution_count": 71,
   "id": "0b2a2030",
   "metadata": {},
   "outputs": [
    {
     "name": "stdout",
     "output_type": "stream",
     "text": [
      "True\n",
      "False\n",
      "False\n"
     ]
    }
   ],
   "source": [
    "x = '5983'\n",
    "print(x.isdigit())\n",
    "y = 'python'\n",
    "print(y.isdigit())\n",
    "z = 'ptyhon5'\n",
    "print(z.isdigit())\n",
    "a = \"578jhkhj\"\n",
    "b =\"__\"\n",
    "ss = 'hello hii'"
   ]
  },
  {
   "cell_type": "code",
   "execution_count": 72,
   "id": "2369c07b",
   "metadata": {},
   "outputs": [
    {
     "name": "stdout",
     "output_type": "stream",
     "text": [
      "False\n",
      "True\n",
      "True\n",
      "False\n",
      "True\n",
      "False\n"
     ]
    }
   ],
   "source": [
    "print(x.isidentifier())\n",
    "print(y.isidentifier())\n",
    "print(z.isidentifier())\n",
    "print(a.isidentifier())\n",
    "print(b.isidentifier())\n",
    "print(ss.isidentifier())\n"
   ]
  },
  {
   "cell_type": "code",
   "execution_count": 88,
   "id": "806a7bf6",
   "metadata": {},
   "outputs": [
    {
     "name": "stdout",
     "output_type": "stream",
     "text": [
      "False\n"
     ]
    }
   ],
   "source": [
    "a = \"Data Science\"\n",
    "print(a.islower())"
   ]
  },
  {
   "cell_type": "code",
   "execution_count": 37,
   "id": "2d1f21d6",
   "metadata": {},
   "outputs": [
    {
     "name": "stdout",
     "output_type": "stream",
     "text": [
      "True\n"
     ]
    }
   ],
   "source": [
    "b = 'python'\n",
    "print(b.islower())"
   ]
  },
  {
   "cell_type": "code",
   "execution_count": 38,
   "id": "4e9f732b",
   "metadata": {},
   "outputs": [
    {
     "name": "stdout",
     "output_type": "stream",
     "text": [
      "True\n",
      "False\n"
     ]
    }
   ],
   "source": [
    "c = '5643'\n",
    "print(c.isnumeric())\n",
    "print(b.isnumeric())"
   ]
  },
  {
   "cell_type": "code",
   "execution_count": 92,
   "id": "aa47dadb",
   "metadata": {},
   "outputs": [
    {
     "name": "stdout",
     "output_type": "stream",
     "text": [
      "False\n"
     ]
    }
   ],
   "source": [
    "txt = \"Hello \\n #1???\"\n",
    "print(txt.isprintable())"
   ]
  },
  {
   "cell_type": "code",
   "execution_count": 95,
   "id": "62e508ca",
   "metadata": {},
   "outputs": [
    {
     "name": "stdout",
     "output_type": "stream",
     "text": [
      "True\n"
     ]
    }
   ],
   "source": [
    "xtct = \"python \"\n",
    "print(xtct.isprintable())\n"
   ]
  },
  {
   "cell_type": "code",
   "execution_count": 98,
   "id": "9501da20",
   "metadata": {},
   "outputs": [
    {
     "name": "stdout",
     "output_type": "stream",
     "text": [
      "hello\n",
      " we \n",
      "are \n",
      "data scientist\n"
     ]
    }
   ],
   "source": [
    "x = 'hello\\n we \\nare \\ndata scientist'\n",
    "print(x)"
   ]
  },
  {
   "cell_type": "code",
   "execution_count": 102,
   "id": "e7be465c",
   "metadata": {},
   "outputs": [
    {
     "name": "stdout",
     "output_type": "stream",
     "text": [
      "False\n"
     ]
    }
   ],
   "source": [
    "x = \"Python    \"\n",
    "print(x.isspace())"
   ]
  },
  {
   "cell_type": "code",
   "execution_count": 103,
   "id": "d2112aee",
   "metadata": {},
   "outputs": [
    {
     "name": "stdout",
     "output_type": "stream",
     "text": [
      "True\n"
     ]
    }
   ],
   "source": [
    "y = '   '\n",
    "print(y.isspace())"
   ]
  },
  {
   "cell_type": "code",
   "execution_count": 75,
   "id": "08de1c34",
   "metadata": {},
   "outputs": [
    {
     "name": "stdout",
     "output_type": "stream",
     "text": [
      "True\n"
     ]
    }
   ],
   "source": [
    "x = \"Python Is\"\n",
    "print(x.istitle())"
   ]
  },
  {
   "cell_type": "code",
   "execution_count": 105,
   "id": "b3cd6ee5",
   "metadata": {},
   "outputs": [
    {
     "name": "stdout",
     "output_type": "stream",
     "text": [
      "False\n"
     ]
    }
   ],
   "source": [
    "y = 'data'\n",
    "print(y.istitle())"
   ]
  },
  {
   "cell_type": "code",
   "execution_count": 106,
   "id": "d4a8d713",
   "metadata": {},
   "outputs": [
    {
     "name": "stdout",
     "output_type": "stream",
     "text": [
      "False\n"
     ]
    }
   ],
   "source": [
    "txt = 'Rose is beautiful flower'\n",
    "print(txt.istitle())"
   ]
  },
  {
   "cell_type": "code",
   "execution_count": 107,
   "id": "40c517e5",
   "metadata": {},
   "outputs": [
    {
     "name": "stdout",
     "output_type": "stream",
     "text": [
      "False\n"
     ]
    }
   ],
   "source": [
    "txt = 'Rose is beautiful flower'\n",
    "print(txt.isupper())"
   ]
  },
  {
   "cell_type": "code",
   "execution_count": 108,
   "id": "071c67c3",
   "metadata": {},
   "outputs": [
    {
     "name": "stdout",
     "output_type": "stream",
     "text": [
      "True\n"
     ]
    }
   ],
   "source": [
    "x = 'ROSE'\n",
    "print(x.isupper())"
   ]
  },
  {
   "cell_type": "code",
   "execution_count": 109,
   "id": "11549d38",
   "metadata": {},
   "outputs": [
    {
     "name": "stdout",
     "output_type": "stream",
     "text": [
      "False\n"
     ]
    }
   ],
   "source": [
    "y = 'flower'\n",
    "print(y.isupper())"
   ]
  },
  {
   "cell_type": "code",
   "execution_count": 76,
   "id": "3459e4cc",
   "metadata": {},
   "outputs": [
    {
     "data": {
      "text/plain": [
       "'f*l*o*w*e*r'"
      ]
     },
     "execution_count": 76,
     "metadata": {},
     "output_type": "execute_result"
    }
   ],
   "source": [
    "y = 'flower'\n",
    "\"*\".join(y)"
   ]
  },
  {
   "cell_type": "code",
   "execution_count": 113,
   "id": "e7fe1531",
   "metadata": {},
   "outputs": [
    {
     "name": "stdout",
     "output_type": "stream",
     "text": [
      "Output before joining flower\n",
      "Output after joining fREDlREDoREDwREDeREDr\n"
     ]
    }
   ],
   "source": [
    "y = 'flower'\n",
    "x = \"RED\".join(y)\n",
    "print(\"Output before joining\", y)\n",
    "print(\"Output after joining\",x)"
   ]
  },
  {
   "cell_type": "code",
   "execution_count": 114,
   "id": "e4b3f882",
   "metadata": {},
   "outputs": [
    {
     "data": {
      "text/plain": [
       "'banana%mango%papaya'"
      ]
     },
     "execution_count": 114,
     "metadata": {},
     "output_type": "execute_result"
    }
   ],
   "source": [
    "fruits = ['banana','mango','papaya']\n",
    "\"%\".join(fruits)"
   ]
  },
  {
   "cell_type": "code",
   "execution_count": 11,
   "id": "8e61766e",
   "metadata": {},
   "outputs": [
    {
     "name": "stdout",
     "output_type": "stream",
     "text": [
      "banana\n",
      "banana**************\n",
      "6\n",
      "20\n"
     ]
    }
   ],
   "source": [
    "\"\"\"ljust(self, width, fillchar=' ', /)\n",
    " |      Return a left-justified string of length width.\n",
    " |      \n",
    "\"\"\"\n",
    "x = 'banana'\n",
    "y = x.ljust(20,'*')\n",
    "print(x)\n",
    "print(y)\n",
    "print(len(x))\n",
    "print(len(y))"
   ]
  },
  {
   "cell_type": "code",
   "execution_count": 17,
   "id": "384eeef0",
   "metadata": {},
   "outputs": [
    {
     "name": "stdout",
     "output_type": "stream",
     "text": [
      "('banana ', 'is', ' a sweet fruit')\n",
      "('banana is a sweet fruit', '', '')\n",
      "('banana is a sweet ', 'fruit', '')\n",
      "('', 'banana', ' is a sweet fruit')\n"
     ]
    }
   ],
   "source": [
    "\"\"\" partition(self, sep, /)\n",
    " |      Partition the string into three parts using the given separator.\n",
    " |      \n",
    " |      This will search for the separator in the string.  If the separator is found,\n",
    " |      returns a 3-tuple containing the part before the separator, the separator\n",
    " |      itself, and the part after it.\n",
    " |      \n",
    " |      If the separator is not found, returns a 3-tuple containing the original string\n",
    " |      and two empty strings.\"\"\"\n",
    "\n",
    "x = 'banana is a sweet fruit'\n",
    "print(x.partition('is'))\n",
    "print(x.partition('are'))\n",
    "print(x.partition('fruit'))\n",
    "print(x.partition('banana'))\n"
   ]
  },
  {
   "cell_type": "code",
   "execution_count": 77,
   "id": "c812f112",
   "metadata": {},
   "outputs": [
    {
     "name": "stdout",
     "output_type": "stream",
     "text": [
      "isupper\n",
      "upper\n",
      " are honest\n",
      "we are honest\n"
     ]
    }
   ],
   "source": [
    "\"\"\"removeprefix(self, prefix, /)\n",
    " |      Return a str with the given prefix string removed if present.\n",
    " |      \n",
    " |      If the string starts with the prefix string, return string[len(prefix):].\n",
    " |      Otherwise, return a copy of the original string.\n",
    " |\"\"\"\n",
    "\n",
    "x = 'isupper'\n",
    "y = x.removeprefix('is')\n",
    "print(x)\n",
    "print(y)\n",
    "a = 'we are honest'\n",
    "print(a.removeprefix('we'))\n",
    "print(a.removeprefix('honest'))"
   ]
  },
  {
   "cell_type": "code",
   "execution_count": 25,
   "id": "db850f88",
   "metadata": {},
   "outputs": [
    {
     "name": "stdout",
     "output_type": "stream",
     "text": [
      "is\n",
      "isupper\n",
      "Beauti\n",
      "Beautiful\n",
      "ful\n"
     ]
    }
   ],
   "source": [
    "\"\"\"removesuffix(self, suffix, /)\n",
    " |      Return a str with the given suffix string removed if present.\n",
    " |      \n",
    " |      If the string ends with the suffix string and that suffix is not empty,\n",
    " |      return string[:-len(suffix)]. Otherwise, return a copy of the original\n",
    " |      string.\"\"\"\n",
    "\n",
    "x = 'isupper'\n",
    "print(x.removesuffix('upper'))\n",
    "print(x.removesuffix('is'))\n",
    "y = 'Beautiful'\n",
    "print(y.removesuffix('ful'))\n",
    "print(y.removesuffix('Beauti'))\n",
    "print(y.removeprefix('Beauti'))"
   ]
  },
  {
   "cell_type": "code",
   "execution_count": 28,
   "id": "e55651b1",
   "metadata": {},
   "outputs": [
    {
     "name": "stdout",
     "output_type": "stream",
     "text": [
      "you are honest\n",
      "we are handsome\n"
     ]
    }
   ],
   "source": [
    "\"\"\" replace(self, old, new, count=-1, /)\n",
    " |      Return a copy with all occurrences of substring old replaced by new.\n",
    " |      \n",
    " |        count\n",
    " |          Maximum number of occurrences to replace.\n",
    " |          -1 (the default value) means replace all occurrences.\n",
    " |      \n",
    " |      If the optional argument count is given, only the first count occurrences are\n",
    " |      replaced.\"\"\"\n",
    "\n",
    "a = 'we are honest'\n",
    "print(a.replace('we','you'))\n",
    "print(a.replace('honest','handsome'))\n"
   ]
  },
  {
   "cell_type": "code",
   "execution_count": 34,
   "id": "fbbabe73",
   "metadata": {},
   "outputs": [
    {
     "name": "stdout",
     "output_type": "stream",
     "text": [
      "0\n",
      "3\n",
      "7\n",
      "8\n",
      "-1\n",
      "10\n"
     ]
    }
   ],
   "source": [
    "\"\"\"rfind(...)\n",
    " |      S.rfind(sub[, start[, end]]) -> int\n",
    " |      \n",
    " |      Return the highest index in S where substring sub is found,\n",
    " |      such that sub is contained within S[start:end].  Optional\n",
    " |      arguments start and end are interpreted as in slice notation.\n",
    " |      \n",
    " |      Return -1 on failure\"\"\"\n",
    "\n",
    "a = 'we are honest'\n",
    "print(a.rfind('we'))\n",
    "a = 'we are honest'\n",
    "print(a.rfind('are'))\n",
    "print(a.rfind('h'))\n",
    "print(a.rfind('on'))\n",
    "print(a.rfind('q'))\n",
    "print(a.rfind('est'))"
   ]
  },
  {
   "cell_type": "code",
   "execution_count": 35,
   "id": "e8b6fa06",
   "metadata": {},
   "outputs": [
    {
     "name": "stdout",
     "output_type": "stream",
     "text": [
      "0\n",
      "3\n",
      "7\n",
      "8\n"
     ]
    },
    {
     "ename": "ValueError",
     "evalue": "substring not found",
     "output_type": "error",
     "traceback": [
      "\u001b[1;31m---------------------------------------------------------------------------\u001b[0m",
      "\u001b[1;31mValueError\u001b[0m                                Traceback (most recent call last)",
      "Input \u001b[1;32mIn [35]\u001b[0m, in \u001b[0;36m<cell line: 17>\u001b[1;34m()\u001b[0m\n\u001b[0;32m     15\u001b[0m \u001b[38;5;28mprint\u001b[39m(a\u001b[38;5;241m.\u001b[39mrindex(\u001b[38;5;124m'\u001b[39m\u001b[38;5;124mh\u001b[39m\u001b[38;5;124m'\u001b[39m))\n\u001b[0;32m     16\u001b[0m \u001b[38;5;28mprint\u001b[39m(a\u001b[38;5;241m.\u001b[39mrindex(\u001b[38;5;124m'\u001b[39m\u001b[38;5;124mon\u001b[39m\u001b[38;5;124m'\u001b[39m))\n\u001b[1;32m---> 17\u001b[0m \u001b[38;5;28mprint\u001b[39m(\u001b[43ma\u001b[49m\u001b[38;5;241;43m.\u001b[39;49m\u001b[43mrindex\u001b[49m\u001b[43m(\u001b[49m\u001b[38;5;124;43m'\u001b[39;49m\u001b[38;5;124;43mq\u001b[39;49m\u001b[38;5;124;43m'\u001b[39;49m\u001b[43m)\u001b[49m)\n",
      "\u001b[1;31mValueError\u001b[0m: substring not found"
     ]
    }
   ],
   "source": [
    "\"\"\"rindex(...)\n",
    " |      S.rindex(sub[, start[, end]]) -> int\n",
    " |      \n",
    " |      Return the highest index in S where substring sub is found,\n",
    " |      such that sub is contained within S[start:end].  Optional\n",
    " |      arguments start and end are interpreted as in slice notation.\n",
    " |      \n",
    " |      Raises ValueError when the substring is not found.\n",
    " |  \"\"\"\n",
    "\n",
    "a = 'we are honest'\n",
    "print(a.rindex('we'))\n",
    "a = 'we are honest'\n",
    "print(a.rindex('are'))\n",
    "print(a.rindex('h'))\n",
    "print(a.rindex('on'))\n",
    "print(a.rindex('q'))\n",
    "#print(a.rindex('est'))"
   ]
  },
  {
   "cell_type": "code",
   "execution_count": 40,
   "id": "48729714",
   "metadata": {},
   "outputs": [
    {
     "name": "stdout",
     "output_type": "stream",
     "text": [
      "apple\n",
      "               apple\n",
      "5\n",
      "20\n"
     ]
    }
   ],
   "source": [
    "\"\"\" rjust(self, width, fillchar=' ', /)\n",
    " |      Return a right-justified string of length width.\n",
    " |      \n",
    " |      Padding is done using the specified fill character (default is a space).\n",
    " |  \"\"\"\n",
    "\n",
    "x = 'apple'\n",
    "y = x.rjust(20)\n",
    "z = x.rjust\n",
    "print(x)\n",
    "print(y)\n",
    "print(len(x))\n",
    "print(len(y))"
   ]
  },
  {
   "cell_type": "code",
   "execution_count": 8,
   "id": "e9e65f07",
   "metadata": {},
   "outputs": [
    {
     "name": "stdout",
     "output_type": "stream",
     "text": [
      "('banan', 'a', '')\n",
      "('bana', 'n', 'a')\n",
      "('', 'b', 'anana')\n"
     ]
    }
   ],
   "source": [
    "\"\"\"rpartition(self, sep, /)\n",
    " |      Partition the string into three parts using the given separator.\n",
    " |      \n",
    " |      This will search for the separator in the string, starting at the end. If\n",
    " |      the separator is found, returns a 3-tuple containing the part before the\n",
    " |      separator, the separator itself, and the part after it.\n",
    " |      \n",
    " |      If the separator is not found, returns a 3-tuple containing two empty strings\n",
    "and the original string. \"\"\"\n",
    "x = 'banana'\n",
    "print(x.rpartition('a'))\n",
    "print(x.rpartition('n'))\n",
    "print(x.rpartition('b'))"
   ]
  },
  {
   "cell_type": "code",
   "execution_count": 9,
   "id": "6de1968e",
   "metadata": {},
   "outputs": [
    {
     "name": "stdout",
     "output_type": "stream",
     "text": [
      "Help on method_descriptor:\n",
      "\n",
      "rsplit(self, /, sep=None, maxsplit=-1)\n",
      "    Return a list of the words in the string, using sep as the delimiter string.\n",
      "    \n",
      "      sep\n",
      "        The delimiter according which to split the string.\n",
      "        None (the default value) means split according to any whitespace,\n",
      "        and discard empty strings from the result.\n",
      "      maxsplit\n",
      "        Maximum number of splits to do.\n",
      "        -1 (the default value) means no limit.\n",
      "    \n",
      "    Splits are done starting at the end of the string and working to the front.\n",
      "\n"
     ]
    }
   ],
   "source": [
    "help(str.rsplit)"
   ]
  },
  {
   "cell_type": "code",
   "execution_count": 14,
   "id": "084b4dc5",
   "metadata": {},
   "outputs": [
    {
     "name": "stdout",
     "output_type": "stream",
     "text": [
      "['', 'pple']\n",
      "['a', '', 'le']\n",
      "['app', 'e']\n"
     ]
    }
   ],
   "source": [
    "z = 'apple'\n",
    "print(z.rsplit('a'))\n",
    "z = 'apple'\n",
    "print(z.rsplit('p'))\n",
    "print(z.rsplit('l'))"
   ]
  },
  {
   "cell_type": "code",
   "execution_count": 11,
   "id": "9a06a948",
   "metadata": {},
   "outputs": [
    {
     "name": "stdout",
     "output_type": "stream",
     "text": [
      "['apple']\n"
     ]
    }
   ],
   "source": [
    "z = '     apple    '\n",
    "print(z.rsplit())"
   ]
  },
  {
   "cell_type": "code",
   "execution_count": 16,
   "id": "219b8676",
   "metadata": {},
   "outputs": [
    {
     "name": "stdout",
     "output_type": "stream",
     "text": [
      "hello Dear stuDents\n",
      "{100: 68}\n"
     ]
    }
   ],
   "source": [
    "x = 'hello dear students'\n",
    "y = x.maketrans('d','D')\n",
    "print(x.translate(y))\n",
    "print(y)"
   ]
  },
  {
   "cell_type": "code",
   "execution_count": 5,
   "id": "471da561",
   "metadata": {},
   "outputs": [
    {
     "name": "stdout",
     "output_type": "stream",
     "text": [
      "Help on method_descriptor:\n",
      "\n",
      "translate(self, table, /)\n",
      "    Replace each character in the string using the given translation table.\n",
      "    \n",
      "      table\n",
      "        Translation table, which must be a mapping of Unicode ordinals to\n",
      "        Unicode ordinals, strings, or None.\n",
      "    \n",
      "    The table must implement lookup/indexing via __getitem__, for instance a\n",
      "    dictionary or list.  If this operation raises LookupError, the character is\n",
      "    left untouched.  Characters mapped to None are deleted.\n",
      "\n"
     ]
    }
   ],
   "source": [
    "help(str.translate)"
   ]
  },
  {
   "cell_type": "code",
   "execution_count": 26,
   "id": "abb52afa",
   "metadata": {},
   "outputs": [
    {
     "name": "stdout",
     "output_type": "stream",
     "text": [
      "    papaya\n",
      "    papaya     \n",
      "papaya\n"
     ]
    }
   ],
   "source": [
    "# rstrip\n",
    "\n",
    "x = \"    papaya     \"\n",
    "print(x.rstrip())\n",
    "print(x)\n",
    "print(x.strip())"
   ]
  },
  {
   "cell_type": "code",
   "execution_count": 21,
   "id": "2f3880fc",
   "metadata": {},
   "outputs": [
    {
     "name": "stdout",
     "output_type": "stream",
     "text": [
      "['a', 'p', 'p', 'l', 'e']\n"
     ]
    }
   ],
   "source": [
    "y = 'a\\np\\np\\nl\\ne'\n",
    "print(y.splitlines())"
   ]
  },
  {
   "cell_type": "code",
   "execution_count": 22,
   "id": "5c44c7a5",
   "metadata": {},
   "outputs": [
    {
     "name": "stdout",
     "output_type": "stream",
     "text": [
      "APPLE\n"
     ]
    }
   ],
   "source": [
    "x = 'apple'\n",
    "print(x.swapcase())"
   ]
  },
  {
   "cell_type": "code",
   "execution_count": 23,
   "id": "a9dd3ba3",
   "metadata": {},
   "outputs": [
    {
     "name": "stdout",
     "output_type": "stream",
     "text": [
      "ApPLE\n"
     ]
    }
   ],
   "source": [
    "x = 'aPple'\n",
    "print(x.swapcase())"
   ]
  },
  {
   "cell_type": "code",
   "execution_count": 24,
   "id": "11749cca",
   "metadata": {},
   "outputs": [
    {
     "name": "stdout",
     "output_type": "stream",
     "text": [
      "True\n"
     ]
    }
   ],
   "source": [
    "x = 'aPple'\n",
    "print(x.startswith('a'))"
   ]
  },
  {
   "cell_type": "code",
   "execution_count": 25,
   "id": "c58e57ce",
   "metadata": {},
   "outputs": [
    {
     "name": "stdout",
     "output_type": "stream",
     "text": [
      "False\n"
     ]
    }
   ],
   "source": [
    "x = 'aPple'\n",
    "print(x.startswith('P'))"
   ]
  },
  {
   "cell_type": "code",
   "execution_count": 27,
   "id": "a76edd73",
   "metadata": {},
   "outputs": [
    {
     "name": "stdout",
     "output_type": "stream",
     "text": [
      "Apple\n"
     ]
    }
   ],
   "source": [
    "x = 'apple ,'\n",
    "print(x.title())"
   ]
  },
  {
   "cell_type": "code",
   "execution_count": 28,
   "id": "2cfbfea3",
   "metadata": {},
   "outputs": [
    {
     "name": "stdout",
     "output_type": "stream",
     "text": [
      "Hell  We Are Data Scientist\n"
     ]
    }
   ],
   "source": [
    "y = 'hell  we are data scientist'\n",
    "print(y.title())"
   ]
  },
  {
   "cell_type": "code",
   "execution_count": 29,
   "id": "362ee8e1",
   "metadata": {},
   "outputs": [
    {
     "name": "stdout",
     "output_type": "stream",
     "text": [
      "APPLE\n"
     ]
    }
   ],
   "source": [
    "x = 'apple'\n",
    "print(x.upper())"
   ]
  },
  {
   "cell_type": "code",
   "execution_count": 31,
   "id": "090fa325",
   "metadata": {},
   "outputs": [
    {
     "name": "stdout",
     "output_type": "stream",
     "text": [
      "00000apple\n"
     ]
    }
   ],
   "source": [
    "x = 'apple'\n",
    "print(x.zfill(10))"
   ]
  },
  {
   "cell_type": "code",
   "execution_count": 35,
   "id": "3f17908e",
   "metadata": {},
   "outputs": [
    {
     "name": "stdout",
     "output_type": "stream",
     "text": [
      "0000000010.0000\n"
     ]
    }
   ],
   "source": [
    "y = '10.0000'\n",
    "print(y.zfill(15,))"
   ]
  },
  {
   "cell_type": "code",
   "execution_count": 1,
   "id": "80bc4a0c",
   "metadata": {
    "scrolled": false
   },
   "outputs": [
    {
     "name": "stdout",
     "output_type": "stream",
     "text": [
      "Help on class str in module builtins:\n",
      "\n",
      "class str(object)\n",
      " |  str(object='') -> str\n",
      " |  str(bytes_or_buffer[, encoding[, errors]]) -> str\n",
      " |  \n",
      " |  Create a new string object from the given object. If encoding or\n",
      " |  errors is specified, then the object must expose a data buffer\n",
      " |  that will be decoded using the given encoding and error handler.\n",
      " |  Otherwise, returns the result of object.__str__() (if defined)\n",
      " |  or repr(object).\n",
      " |  encoding defaults to sys.getdefaultencoding().\n",
      " |  errors defaults to 'strict'.\n",
      " |  \n",
      " |  Methods defined here:\n",
      " |  \n",
      " |  __add__(self, value, /)\n",
      " |      Return self+value.\n",
      " |  \n",
      " |  __contains__(self, key, /)\n",
      " |      Return key in self.\n",
      " |  \n",
      " |  __eq__(self, value, /)\n",
      " |      Return self==value.\n",
      " |  \n",
      " |  __format__(self, format_spec, /)\n",
      " |      Return a formatted version of the string as described by format_spec.\n",
      " |  \n",
      " |  __ge__(self, value, /)\n",
      " |      Return self>=value.\n",
      " |  \n",
      " |  __getattribute__(self, name, /)\n",
      " |      Return getattr(self, name).\n",
      " |  \n",
      " |  __getitem__(self, key, /)\n",
      " |      Return self[key].\n",
      " |  \n",
      " |  __getnewargs__(...)\n",
      " |  \n",
      " |  __gt__(self, value, /)\n",
      " |      Return self>value.\n",
      " |  \n",
      " |  __hash__(self, /)\n",
      " |      Return hash(self).\n",
      " |  \n",
      " |  __iter__(self, /)\n",
      " |      Implement iter(self).\n",
      " |  \n",
      " |  __le__(self, value, /)\n",
      " |      Return self<=value.\n",
      " |  \n",
      " |  __len__(self, /)\n",
      " |      Return len(self).\n",
      " |  \n",
      " |  __lt__(self, value, /)\n",
      " |      Return self<value.\n",
      " |  \n",
      " |  __mod__(self, value, /)\n",
      " |      Return self%value.\n",
      " |  \n",
      " |  __mul__(self, value, /)\n",
      " |      Return self*value.\n",
      " |  \n",
      " |  __ne__(self, value, /)\n",
      " |      Return self!=value.\n",
      " |  \n",
      " |  __repr__(self, /)\n",
      " |      Return repr(self).\n",
      " |  \n",
      " |  __rmod__(self, value, /)\n",
      " |      Return value%self.\n",
      " |  \n",
      " |  __rmul__(self, value, /)\n",
      " |      Return value*self.\n",
      " |  \n",
      " |  __sizeof__(self, /)\n",
      " |      Return the size of the string in memory, in bytes.\n",
      " |  \n",
      " |  __str__(self, /)\n",
      " |      Return str(self).\n",
      " |  \n",
      " |  capitalize(self, /)\n",
      " |      Return a capitalized version of the string.\n",
      " |      \n",
      " |      More specifically, make the first character have upper case and the rest lower\n",
      " |      case.\n",
      " |  \n",
      " |  casefold(self, /)\n",
      " |      Return a version of the string suitable for caseless comparisons.\n",
      " |  \n",
      " |  center(self, width, fillchar=' ', /)\n",
      " |      Return a centered string of length width.\n",
      " |      \n",
      " |      Padding is done using the specified fill character (default is a space).\n",
      " |  \n",
      " |  count(...)\n",
      " |      S.count(sub[, start[, end]]) -> int\n",
      " |      \n",
      " |      Return the number of non-overlapping occurrences of substring sub in\n",
      " |      string S[start:end].  Optional arguments start and end are\n",
      " |      interpreted as in slice notation.\n",
      " |  \n",
      " |  encode(self, /, encoding='utf-8', errors='strict')\n",
      " |      Encode the string using the codec registered for encoding.\n",
      " |      \n",
      " |      encoding\n",
      " |        The encoding in which to encode the string.\n",
      " |      errors\n",
      " |        The error handling scheme to use for encoding errors.\n",
      " |        The default is 'strict' meaning that encoding errors raise a\n",
      " |        UnicodeEncodeError.  Other possible values are 'ignore', 'replace' and\n",
      " |        'xmlcharrefreplace' as well as any other name registered with\n",
      " |        codecs.register_error that can handle UnicodeEncodeErrors.\n",
      " |  \n",
      " |  endswith(...)\n",
      " |      S.endswith(suffix[, start[, end]]) -> bool\n",
      " |      \n",
      " |      Return True if S ends with the specified suffix, False otherwise.\n",
      " |      With optional start, test S beginning at that position.\n",
      " |      With optional end, stop comparing S at that position.\n",
      " |      suffix can also be a tuple of strings to try.\n",
      " |  \n",
      " |  expandtabs(self, /, tabsize=8)\n",
      " |      Return a copy where all tab characters are expanded using spaces.\n",
      " |      \n",
      " |      If tabsize is not given, a tab size of 8 characters is assumed.\n",
      " |  \n",
      " |  find(...)\n",
      " |      S.find(sub[, start[, end]]) -> int\n",
      " |      \n",
      " |      Return the lowest index in S where substring sub is found,\n",
      " |      such that sub is contained within S[start:end].  Optional\n",
      " |      arguments start and end are interpreted as in slice notation.\n",
      " |      \n",
      " |      Return -1 on failure.\n",
      " |  \n",
      " |  format(...)\n",
      " |      S.format(*args, **kwargs) -> str\n",
      " |      \n",
      " |      Return a formatted version of S, using substitutions from args and kwargs.\n",
      " |      The substitutions are identified by braces ('{' and '}').\n",
      " |  \n",
      " |  format_map(...)\n",
      " |      S.format_map(mapping) -> str\n",
      " |      \n",
      " |      Return a formatted version of S, using substitutions from mapping.\n",
      " |      The substitutions are identified by braces ('{' and '}').\n",
      " |  \n",
      " |  index(...)\n",
      " |      S.index(sub[, start[, end]]) -> int\n",
      " |      \n",
      " |      Return the lowest index in S where substring sub is found,\n",
      " |      such that sub is contained within S[start:end].  Optional\n",
      " |      arguments start and end are interpreted as in slice notation.\n",
      " |      \n",
      " |      Raises ValueError when the substring is not found.\n",
      " |  \n",
      " |  isalnum(self, /)\n",
      " |      Return True if the string is an alpha-numeric string, False otherwise.\n",
      " |      \n",
      " |      A string is alpha-numeric if all characters in the string are alpha-numeric and\n",
      " |      there is at least one character in the string.\n",
      " |  \n",
      " |  isalpha(self, /)\n",
      " |      Return True if the string is an alphabetic string, False otherwise.\n",
      " |      \n",
      " |      A string is alphabetic if all characters in the string are alphabetic and there\n",
      " |      is at least one character in the string.\n",
      " |  \n",
      " |  isascii(self, /)\n",
      " |      Return True if all characters in the string are ASCII, False otherwise.\n",
      " |      \n",
      " |      ASCII characters have code points in the range U+0000-U+007F.\n",
      " |      Empty string is ASCII too.\n",
      " |  \n",
      " |  isdecimal(self, /)\n",
      " |      Return True if the string is a decimal string, False otherwise.\n",
      " |      \n",
      " |      A string is a decimal string if all characters in the string are decimal and\n",
      " |      there is at least one character in the string.\n",
      " |  \n",
      " |  isdigit(self, /)\n",
      " |      Return True if the string is a digit string, False otherwise.\n",
      " |      \n",
      " |      A string is a digit string if all characters in the string are digits and there\n",
      " |      is at least one character in the string.\n",
      " |  \n",
      " |  isidentifier(self, /)\n",
      " |      Return True if the string is a valid Python identifier, False otherwise.\n",
      " |      \n",
      " |      Call keyword.iskeyword(s) to test whether string s is a reserved identifier,\n",
      " |      such as \"def\" or \"class\".\n",
      " |  \n",
      " |  islower(self, /)\n",
      " |      Return True if the string is a lowercase string, False otherwise.\n",
      " |      \n",
      " |      A string is lowercase if all cased characters in the string are lowercase and\n",
      " |      there is at least one cased character in the string.\n",
      " |  \n",
      " |  isnumeric(self, /)\n",
      " |      Return True if the string is a numeric string, False otherwise.\n",
      " |      \n",
      " |      A string is numeric if all characters in the string are numeric and there is at\n",
      " |      least one character in the string.\n",
      " |  \n",
      " |  isprintable(self, /)\n",
      " |      Return True if the string is printable, False otherwise.\n",
      " |      \n",
      " |      A string is printable if all of its characters are considered printable in\n",
      " |      repr() or if it is empty.\n",
      " |  \n",
      " |  isspace(self, /)\n",
      " |      Return True if the string is a whitespace string, False otherwise.\n",
      " |      \n",
      " |      A string is whitespace if all characters in the string are whitespace and there\n",
      " |      is at least one character in the string.\n",
      " |  \n",
      " |  istitle(self, /)\n",
      " |      Return True if the string is a title-cased string, False otherwise.\n",
      " |      \n",
      " |      In a title-cased string, upper- and title-case characters may only\n",
      " |      follow uncased characters and lowercase characters only cased ones.\n",
      " |  \n",
      " |  isupper(self, /)\n",
      " |      Return True if the string is an uppercase string, False otherwise.\n",
      " |      \n",
      " |      A string is uppercase if all cased characters in the string are uppercase and\n",
      " |      there is at least one cased character in the string.\n",
      " |  \n",
      " |  join(self, iterable, /)\n",
      " |      Concatenate any number of strings.\n",
      " |      \n",
      " |      The string whose method is called is inserted in between each given string.\n",
      " |      The result is returned as a new string.\n",
      " |      \n",
      " |      Example: '.'.join(['ab', 'pq', 'rs']) -> 'ab.pq.rs'\n",
      " |  \n",
      " |  ljust(self, width, fillchar=' ', /)\n",
      " |      Return a left-justified string of length width.\n",
      " |      \n",
      " |      Padding is done using the specified fill character (default is a space).\n",
      " |  \n",
      " |  lower(self, /)\n",
      " |      Return a copy of the string converted to lowercase.\n",
      " |  \n",
      " |  lstrip(self, chars=None, /)\n",
      " |      Return a copy of the string with leading whitespace removed.\n",
      " |      \n",
      " |      If chars is given and not None, remove characters in chars instead.\n",
      " |  \n",
      " |  partition(self, sep, /)\n",
      " |      Partition the string into three parts using the given separator.\n",
      " |      \n",
      " |      This will search for the separator in the string.  If the separator is found,\n",
      " |      returns a 3-tuple containing the part before the separator, the separator\n",
      " |      itself, and the part after it.\n",
      " |      \n",
      " |      If the separator is not found, returns a 3-tuple containing the original string\n",
      " |      and two empty strings.\n",
      " |  \n",
      " |  removeprefix(self, prefix, /)\n",
      " |      Return a str with the given prefix string removed if present.\n",
      " |      \n",
      " |      If the string starts with the prefix string, return string[len(prefix):].\n",
      " |      Otherwise, return a copy of the original string.\n",
      " |  \n",
      " |  removesuffix(self, suffix, /)\n",
      " |      Return a str with the given suffix string removed if present.\n",
      " |      \n",
      " |      If the string ends with the suffix string and that suffix is not empty,\n",
      " |      return string[:-len(suffix)]. Otherwise, return a copy of the original\n",
      " |      string.\n",
      " |  \n",
      " |  replace(self, old, new, count=-1, /)\n",
      " |      Return a copy with all occurrences of substring old replaced by new.\n",
      " |      \n",
      " |        count\n",
      " |          Maximum number of occurrences to replace.\n",
      " |          -1 (the default value) means replace all occurrences.\n",
      " |      \n",
      " |      If the optional argument count is given, only the first count occurrences are\n",
      " |      replaced.\n",
      " |  \n",
      " |  rfind(...)\n",
      " |      S.rfind(sub[, start[, end]]) -> int\n",
      " |      \n",
      " |      Return the highest index in S where substring sub is found,\n",
      " |      such that sub is contained within S[start:end].  Optional\n",
      " |      arguments start and end are interpreted as in slice notation.\n",
      " |      \n",
      " |      Return -1 on failure.\n",
      " |  \n",
      " |  rindex(...)\n",
      " |      S.rindex(sub[, start[, end]]) -> int\n",
      " |      \n",
      " |      Return the highest index in S where substring sub is found,\n",
      " |      such that sub is contained within S[start:end].  Optional\n",
      " |      arguments start and end are interpreted as in slice notation.\n",
      " |      \n",
      " |      Raises ValueError when the substring is not found.\n",
      " |  \n",
      " |  rjust(self, width, fillchar=' ', /)\n",
      " |      Return a right-justified string of length width.\n",
      " |      \n",
      " |      Padding is done using the specified fill character (default is a space).\n",
      " |  \n",
      " |  rpartition(self, sep, /)\n",
      " |      Partition the string into three parts using the given separator.\n",
      " |      \n",
      " |      This will search for the separator in the string, starting at the end. If\n",
      " |      the separator is found, returns a 3-tuple containing the part before the\n",
      " |      separator, the separator itself, and the part after it.\n",
      " |      \n",
      " |      If the separator is not found, returns a 3-tuple containing two empty strings\n",
      " |      and the original string.\n",
      " |  \n",
      " |  rsplit(self, /, sep=None, maxsplit=-1)\n",
      " |      Return a list of the words in the string, using sep as the delimiter string.\n",
      " |      \n",
      " |        sep\n",
      " |          The delimiter according which to split the string.\n",
      " |          None (the default value) means split according to any whitespace,\n",
      " |          and discard empty strings from the result.\n",
      " |        maxsplit\n",
      " |          Maximum number of splits to do.\n",
      " |          -1 (the default value) means no limit.\n",
      " |      \n",
      " |      Splits are done starting at the end of the string and working to the front.\n",
      " |  \n",
      " |  rstrip(self, chars=None, /)\n",
      " |      Return a copy of the string with trailing whitespace removed.\n",
      " |      \n",
      " |      If chars is given and not None, remove characters in chars instead.\n",
      " |  \n",
      " |  split(self, /, sep=None, maxsplit=-1)\n",
      " |      Return a list of the words in the string, using sep as the delimiter string.\n",
      " |      \n",
      " |      sep\n",
      " |        The delimiter according which to split the string.\n",
      " |        None (the default value) means split according to any whitespace,\n",
      " |        and discard empty strings from the result.\n",
      " |      maxsplit\n",
      " |        Maximum number of splits to do.\n",
      " |        -1 (the default value) means no limit.\n",
      " |  \n",
      " |  splitlines(self, /, keepends=False)\n",
      " |      Return a list of the lines in the string, breaking at line boundaries.\n",
      " |      \n",
      " |      Line breaks are not included in the resulting list unless keepends is given and\n",
      " |      true.\n",
      " |  \n",
      " |  startswith(...)\n",
      " |      S.startswith(prefix[, start[, end]]) -> bool\n",
      " |      \n",
      " |      Return True if S starts with the specified prefix, False otherwise.\n",
      " |      With optional start, test S beginning at that position.\n",
      " |      With optional end, stop comparing S at that position.\n",
      " |      prefix can also be a tuple of strings to try.\n",
      " |  \n",
      " |  strip(self, chars=None, /)\n",
      " |      Return a copy of the string with leading and trailing whitespace removed.\n",
      " |      \n",
      " |      If chars is given and not None, remove characters in chars instead.\n",
      " |  \n",
      " |  swapcase(self, /)\n",
      " |      Convert uppercase characters to lowercase and lowercase characters to uppercase.\n",
      " |  \n",
      " |  title(self, /)\n",
      " |      Return a version of the string where each word is titlecased.\n",
      " |      \n",
      " |      More specifically, words start with uppercased characters and all remaining\n",
      " |      cased characters have lower case.\n",
      " |  \n",
      " |  translate(self, table, /)\n",
      " |      Replace each character in the string using the given translation table.\n",
      " |      \n",
      " |        table\n",
      " |          Translation table, which must be a mapping of Unicode ordinals to\n",
      " |          Unicode ordinals, strings, or None.\n",
      " |      \n",
      " |      The table must implement lookup/indexing via __getitem__, for instance a\n",
      " |      dictionary or list.  If this operation raises LookupError, the character is\n",
      " |      left untouched.  Characters mapped to None are deleted.\n",
      " |  \n",
      " |  upper(self, /)\n",
      " |      Return a copy of the string converted to uppercase.\n",
      " |  \n",
      " |  zfill(self, width, /)\n",
      " |      Pad a numeric string with zeros on the left, to fill a field of the given width.\n",
      " |      \n",
      " |      The string is never truncated.\n",
      " |  \n",
      " |  ----------------------------------------------------------------------\n",
      " |  Static methods defined here:\n",
      " |  \n",
      " |  __new__(*args, **kwargs) from builtins.type\n",
      " |      Create and return a new object.  See help(type) for accurate signature.\n",
      " |  \n",
      " |  maketrans(...)\n",
      " |      Return a translation table usable for str.translate().\n",
      " |      \n",
      " |      If there is only one argument, it must be a dictionary mapping Unicode\n",
      " |      ordinals (integers) or characters to Unicode ordinals, strings or None.\n",
      " |      Character keys will be then converted to ordinals.\n",
      " |      If there are two arguments, they must be strings of equal length, and\n",
      " |      in the resulting dictionary, each character in x will be mapped to the\n",
      " |      character at the same position in y. If there is a third argument, it\n",
      " |      must be a string, whose characters will be mapped to None in the result.\n",
      "\n"
     ]
    }
   ],
   "source": [
    "help(str)"
   ]
  },
  {
   "cell_type": "code",
   "execution_count": 2,
   "id": "e82c91a7",
   "metadata": {},
   "outputs": [
    {
     "name": "stdout",
     "output_type": "stream",
     "text": [
      "['b', 'n', 'n', '']\n",
      "['apple']\n",
      "['appl', '']\n",
      "['a', '', 'le']\n",
      "['apple']\n"
     ]
    }
   ],
   "source": [
    "\"\"\"rsplit(self, /, sep=None, maxsplit=-1)\n",
    " |      Return a list of the words in the string, using sep as the delimiter string.\n",
    " |      \n",
    " |        sep\n",
    " |          The delimiter according which to split the string.\n",
    " |          None (the default value) means split according to any whitespace,\n",
    " |          and discard empty strings from the result.\n",
    " |        maxsplit\n",
    " |          Maximum number of splits to do.\n",
    " |          -1 (the default value) means no limit.\n",
    " |  \"\"\"\n",
    "\n",
    "x = 'banana'\n",
    "print(x.rsplit('a'))\n",
    "y = 'apple'\n",
    "print(y.rsplit())\n",
    "print(y.rsplit('e'))\n",
    "print(y.rsplit('p'))\n",
    "print(y.rsplit('z'))\n"
   ]
  },
  {
   "cell_type": "code",
   "execution_count": 3,
   "id": "1c88e618",
   "metadata": {},
   "outputs": [
    {
     "name": "stdout",
     "output_type": "stream",
     "text": [
      "     banana     \n",
      "     banana\n"
     ]
    }
   ],
   "source": [
    "\"\"\"rstrip(self, chars=None, /)\n",
    " |      Return a copy of the string with trailing whitespace removed.\n",
    " |      \n",
    " |      If chars is given and not None, remove characters in chars instead.\n",
    " |  \"\"\"\n",
    "\n",
    "x  = '     banana     '\n",
    "print(x)\n",
    "print(x.rstrip())"
   ]
  },
  {
   "cell_type": "code",
   "execution_count": 5,
   "id": "8f05abe6",
   "metadata": {},
   "outputs": [
    {
     "name": "stdout",
     "output_type": "stream",
     "text": [
      "     banana     \n",
      "banana\n",
      "banana     \n"
     ]
    }
   ],
   "source": [
    "\n",
    "x  = '     banana     '\n",
    "print(x)\n",
    "print(x.strip())\n",
    "print(x.lstrip())"
   ]
  },
  {
   "cell_type": "code",
   "execution_count": 14,
   "id": "8c3f6ba0",
   "metadata": {},
   "outputs": [
    {
     "name": "stdout",
     "output_type": "stream",
     "text": [
      "['Line breaks\\n', ' are\\n', ' not included']\n",
      "['Line breaks are not included']\n"
     ]
    }
   ],
   "source": [
    "\"\"\"splitlines(self, /, keepends=False)\n",
    " |      Return a list of the lines in the string, breaking at line boundaries.\n",
    " |      \n",
    " |      Line breaks are not included in the resulting list unless keepends is given and\n",
    " |      true.\n",
    " |  \"\"\"\n",
    "\n",
    "x = 'Line breaks\\n are\\n not included'\n",
    "y = 'Line breaks are not included'\n",
    "\n",
    "print(x.splitlines( keepends=True))\n",
    "print(y.splitlines( keepends=False))"
   ]
  },
  {
   "cell_type": "code",
   "execution_count": 16,
   "id": "ed026861",
   "metadata": {},
   "outputs": [
    {
     "name": "stdout",
     "output_type": "stream",
     "text": [
      "BAnANA\n"
     ]
    }
   ],
   "source": [
    "\"\"\"swapcase(self, /)\n",
    " |      Convert uppercase characters to lowercase and lowercase characters to uppercase.\n",
    " |  \"\"\"\n",
    "\n",
    "x = 'baNana'\n",
    "print(x.swapcase())"
   ]
  },
  {
   "cell_type": "code",
   "execution_count": 29,
   "id": "a15793cb",
   "metadata": {},
   "outputs": [
    {
     "name": "stdout",
     "output_type": "stream",
     "text": [
      "{105: 73}\n"
     ]
    },
    {
     "data": {
      "text/plain": [
       "'Hello hii'"
      ]
     },
     "execution_count": 29,
     "metadata": {},
     "output_type": "execute_result"
    }
   ],
   "source": [
    "\"\"\" translate(self, table, /)\n",
    " |      Replace each character in the string using the given translation table.\n",
    " |      \n",
    " |        table\n",
    " |          Translation table, which must be a mapping of Unicode ordinals to\n",
    " |          Unicode ordinals, strings, or None.\n",
    " |      \n",
    " |      The table must implement lookup/indexing via __getitem__, for instance a\n",
    " |      dictionary or list.  If this operation raises LookupError, the character is\n",
    " |      left untouched.  Characters mapped to None are deleted.\n",
    " |  \"\"\"\n",
    "\n",
    "x = \"Hello hii\"\n",
    "#print(x.translate('z'))\n",
    "y = x.maketrans('i','I')\n",
    "print(y)\n",
    "x.translate(y)"
   ]
  },
  {
   "cell_type": "code",
   "execution_count": 34,
   "id": "c5c4a436",
   "metadata": {},
   "outputs": [
    {
     "name": "stdout",
     "output_type": "stream",
     "text": [
      "Original string: ab\n",
      "Translated string: \n"
     ]
    }
   ],
   "source": [
    "# first string\n",
    "firstString = \"abc\"\n",
    "secondString = \"ghi\"\n",
    "thirdString = \"ab\"\n",
    "\n",
    "string = \"ab\"\n",
    "print(\"Original string:\", string)\n",
    "\n",
    "translation = string.maketrans(firstString, secondString, thirdString)\n",
    "\n",
    "# translate string\n",
    "print(\"Translated string:\", string.translate(translation))\n"
   ]
  },
  {
   "cell_type": "code",
   "execution_count": 36,
   "id": "27b90e54",
   "metadata": {},
   "outputs": [
    {
     "name": "stdout",
     "output_type": "stream",
     "text": [
      "000000000000000mango\n",
      "mango\n"
     ]
    }
   ],
   "source": [
    "x = 'mango'\n",
    "print(x.zfill(20))\n",
    "print(x.zfill(2))"
   ]
  },
  {
   "cell_type": "code",
   "execution_count": 2,
   "id": "faad6db0",
   "metadata": {},
   "outputs": [
    {
     "name": "stdout",
     "output_type": "stream",
     "text": [
      "1\n",
      "1\n",
      "1\n",
      "0\n"
     ]
    }
   ],
   "source": [
    "x = ['mango', 'orange', 'orange', 'lilly', 'sunflower']\n",
    "for y in x:\n",
    "    if 'o' in y:\n",
    "        print(y.count('a'))"
   ]
  },
  {
   "cell_type": "code",
   "execution_count": null,
   "id": "36841d6e",
   "metadata": {},
   "outputs": [],
   "source": []
  }
 ],
 "metadata": {
  "kernelspec": {
   "display_name": "Python 3 (ipykernel)",
   "language": "python",
   "name": "python3"
  },
  "language_info": {
   "codemirror_mode": {
    "name": "ipython",
    "version": 3
   },
   "file_extension": ".py",
   "mimetype": "text/x-python",
   "name": "python",
   "nbconvert_exporter": "python",
   "pygments_lexer": "ipython3",
   "version": "3.9.12"
  }
 },
 "nbformat": 4,
 "nbformat_minor": 5
}
